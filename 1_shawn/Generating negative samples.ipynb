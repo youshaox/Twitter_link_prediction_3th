{
 "cells": [
  {
   "cell_type": "code",
   "execution_count": 10,
   "metadata": {},
   "outputs": [],
   "source": [
    "import pickle\n",
    "import math\n",
    "\n",
    "data_dir = \"../../data/\"\n",
    "\n",
    "with open(data_dir + \"train.txt\", \"r\") as f:\n",
    "     train_data = f.readlines()\n",
    "Nodes = []\n",
    "Edges = []\n",
    "for i in range(len(train_data)):\n",
    "    #if i%100 == 0:\n",
    "        #print(i)\n",
    "    nodes_list = [int(n) for n in train_data[i].split()]\n",
    "    for node in nodes_list:\n",
    "        Nodes.append(node)\n",
    "    for node in nodes_list[1:]:\n",
    "        Edges.append((nodes_list[0],node))\n",
    "Nodes = set(Nodes)\n"
   ]
  },
  {
   "cell_type": "code",
   "execution_count": 132,
   "metadata": {},
   "outputs": [],
   "source": [
    "# 找到所有的test_data中的点\n",
    "data_dir = \"../../data/\"\n",
    "with open(data_dir + \"test-public.txt\", \"r\") as f:\n",
    "     test_data = f.readlines()\n",
    "test_data = [i.split() for i in test_data[1:]]\n",
    "\n",
    "nodes_in_test_data = set()\n",
    "for edge in test_data:\n",
    "    nodes_in_test_data.add(edge[1])\n",
    "    nodes_in_test_data.add(edge[2])"
   ]
  },
  {
   "cell_type": "code",
   "execution_count": 133,
   "metadata": {},
   "outputs": [
    {
     "data": {
      "text/plain": [
       "3948"
      ]
     },
     "execution_count": 133,
     "metadata": {},
     "output_type": "execute_result"
    }
   ],
   "source": [
    "len(nodes_in_test_data)"
   ]
  },
  {
   "cell_type": "code",
   "execution_count": 51,
   "metadata": {},
   "outputs": [],
   "source": [
    "data_dir = \"../../data/\"\n",
    "def save_obj(obj, name ):\n",
    "    with open( name + '.pkl', 'wb') as f:\n",
    "        pickle.dump(obj, f, pickle.HIGHEST_PROTOCOL)\n",
    "\n",
    "def load_obj(name):\n",
    "    with open(data_dir + name + '.pkl', 'rb') as f:\n",
    "        return pickle.load(f)\n",
    "# load data\n",
    "BasicFeatures = load_obj(\"pre_features-v2\")"
   ]
  },
  {
   "cell_type": "code",
   "execution_count": 134,
   "metadata": {},
   "outputs": [],
   "source": [
    "data_dir = \"../../data/\"\n",
    "\n",
    "with open(data_dir + \"edges.txt\", \"r\") as f:\n",
    "    read_rows = f.readlines()\n",
    "    \n",
    "\n",
    "rows = [i.split() for i in read_rows[0:]]\n",
    "edges_of_all_test_nodes_related=list()\n",
    "\n",
    "for row in rows:\n",
    "    row[0] = int(row[0])\n",
    "    row[1] = int(row[1])\n",
    "    edge = (row[0], row[1])\n",
    "    if str(row[0]) in nodes_in_test_data or str(row[1]) in nodes_in_test_data:\n",
    "        edges_of_all_test_nodes_related.append(edge)"
   ]
  },
  {
   "cell_type": "code",
   "execution_count": 135,
   "metadata": {},
   "outputs": [
    {
     "data": {
      "text/plain": [
       "5068485"
      ]
     },
     "execution_count": 135,
     "metadata": {},
     "output_type": "execute_result"
    }
   ],
   "source": [
    "len(edges_of_all_test_nodes_related)"
   ]
  },
  {
   "cell_type": "code",
   "execution_count": 37,
   "metadata": {},
   "outputs": [],
   "source": [
    "def save_obj(obj, name ):\n",
    "    with open( name + '.pkl', 'wb') as f:\n",
    "        pickle.dump(obj, f, pickle.HIGHEST_PROTOCOL)\n",
    "\n",
    "def load_obj(name):\n",
    "    with open(data_dir + name + '.pkl', 'rb') as f:\n",
    "        return pickle.load(f)\n",
    "# save_obj(edges_of_all_test_nodes_related,\"edges_of_all_test_nodes_related\")"
   ]
  },
  {
   "cell_type": "code",
   "execution_count": 6,
   "metadata": {},
   "outputs": [],
   "source": [
    "import pickle\n",
    "\n",
    "def load_obj(name):\n",
    "    with open(name + '.pkl', 'rb') as f:\n",
    "        return pickle.load(f)\n",
    "data_dir = \"../../data/\"\n",
    "\n",
    "import csv\n",
    "filename='edges_of_all_test_nodes_related'\n",
    "edges_of_all_test_nodes_related = load_obj(filename)\n",
    "with open(filename + \".txt\", 'w', encoding = 'utf8') as f:\n",
    "    f_csv = csv.writer(f)\n",
    "    f_csv.writerows(edges_of_all_test_nodes_related)\n"
   ]
  },
  {
   "cell_type": "code",
   "execution_count": 7,
   "metadata": {},
   "outputs": [
    {
     "data": {
      "text/plain": [
       "5068485"
      ]
     },
     "execution_count": 7,
     "metadata": {},
     "output_type": "execute_result"
    }
   ],
   "source": [
    "len(edges_of_all_test_nodes_related)"
   ]
  },
  {
   "cell_type": "code",
   "execution_count": 8,
   "metadata": {},
   "outputs": [
    {
     "data": {
      "text/plain": [
       "(625451, 2593244)"
      ]
     },
     "execution_count": 8,
     "metadata": {},
     "output_type": "execute_result"
    }
   ],
   "source": [
    "# 500w里选5w\n",
    "import random\n",
    "ps_edges = random.sample(edges_of_all_test_nodes_related, 50000)\n",
    "len(ps_edges)\n",
    "ps_edges[0]\n"
   ]
  },
  {
   "cell_type": "code",
   "execution_count": null,
   "metadata": {},
   "outputs": [],
   "source": []
  },
  {
   "cell_type": "code",
   "execution_count": 9,
   "metadata": {},
   "outputs": [],
   "source": [
    "nodes = set()\n",
    "for edge in ps_edges:\n",
    "    nodes.add(edge[0])\n",
    "    nodes.add(edge[1])"
   ]
  },
  {
   "cell_type": "code",
   "execution_count": 16,
   "metadata": {},
   "outputs": [
    {
     "data": {
      "text/plain": [
       "47960"
      ]
     },
     "execution_count": 16,
     "metadata": {},
     "output_type": "execute_result"
    }
   ],
   "source": [
    "len(ps_edges)\n",
    "len(nodes)"
   ]
  },
  {
   "cell_type": "code",
   "execution_count": null,
   "metadata": {},
   "outputs": [],
   "source": [
    "from tqdm import tqdm\n",
    "\n",
    "count = 0\n",
    "final_edges=list()\n",
    "while count < 50000:\n",
    "    node1, node2 = random.sample(nodes,2)\n",
    "    if (node1,node2) not in ps_edges:\n",
    "        count+=1\n",
    "        final_edges.append((node1,node2,0))"
   ]
  },
  {
   "cell_type": "code",
   "execution_count": 33,
   "metadata": {},
   "outputs": [],
   "source": [
    "# final_edges\n",
    "negative_edges = final_edges"
   ]
  },
  {
   "cell_type": "code",
   "execution_count": 35,
   "metadata": {},
   "outputs": [],
   "source": [
    "for edge in ps_edges:\n",
    "    final_edges.append((edge[0], edge[1], 1))"
   ]
  },
  {
   "cell_type": "code",
   "execution_count": 38,
   "metadata": {},
   "outputs": [],
   "source": [
    "save_obj(final_edges,'final_edges')"
   ]
  },
  {
   "cell_type": "code",
   "execution_count": 42,
   "metadata": {},
   "outputs": [
    {
     "data": {
      "text/plain": [
       "100000"
      ]
     },
     "execution_count": 42,
     "metadata": {},
     "output_type": "execute_result"
    }
   ],
   "source": [
    "len(final_edges)\n",
    "# print(final_edges)"
   ]
  },
  {
   "cell_type": "code",
   "execution_count": 43,
   "metadata": {},
   "outputs": [],
   "source": [
    "# Genative labels\n",
    "BasicFeatures = load_obj(\"pre_features-v2\")\n",
    "pre_features=BasicFeatures\n",
    "#Cosine\n",
    "def Cosine(Node1, Node2):\n",
    "    n1 = pre_features[Node1]\n",
    "    n2 = pre_features[Node2]\n",
    "    common_neighors = list(set(n1[2]).intersection(n2[2]))\n",
    "    lm = len(common_neighors)\n",
    "    if lm == 0:\n",
    "        return 0\n",
    "    else:\n",
    "        return (0.0+lm)/(len(n1[2])*len(n2[2]))\n",
    "\n",
    "def get_jaccard_coefficient(source, sink):\n",
    "    \"\"\"\n",
    "    in: source::Node object\n",
    "    in: sink::Node object\n",
    "    return: jaccard's cofficient::numeric\n",
    "    \"\"\"\n",
    "    # transform\n",
    "    neighbours_of_source_list = BasicFeatures[source][2]\n",
    "    neighbours_of_sink_list = BasicFeatures[sink][2]\n",
    "    \n",
    "    neigbours_set_of_source = set(neighbours_of_source_list)\n",
    "    neigbours_set_of_sink = set(neighbours_of_sink_list)\n",
    "    union_neighbours = neigbours_set_of_source | neigbours_set_of_sink\n",
    "    common_neighbours = neigbours_set_of_source & neigbours_set_of_sink\n",
    "    if len(union_neighbours)==0:\n",
    "        return 0.0\n",
    "    return(len(common_neighbours)/len(union_neighbours))\n",
    "\n",
    "def get_preferential_attachment(source, sink):\n",
    "    # transform\n",
    "    neighbours_of_source_list = BasicFeatures[source][2]\n",
    "    neighbours_of_sink_list = BasicFeatures[sink][2]\n",
    "    \n",
    "    neigbours_set_of_source = set(neighbours_of_source_list)\n",
    "    neigbours_set_of_sink = set(neighbours_of_sink_list)\n",
    "    \n",
    "    return len(neigbours_set_of_source)*len(neigbours_set_of_sink)\n",
    "\n",
    "def get_adamic_adar(source, sink):\n",
    "    # transform\n",
    "    neighbours_of_source_list = BasicFeatures[source][2]\n",
    "    neighbours_of_sink_list = BasicFeatures[sink][2]\n",
    "\n",
    "    neigbours_set_of_source = set(neighbours_of_source_list)\n",
    "    neigbours_set_of_sink = set(neighbours_of_sink_list)\n",
    "    common_neighbours = neigbours_set_of_source & neigbours_set_of_sink\n",
    "    # get the summation\n",
    "    score = 0\n",
    "    for common_node in common_neighbours:\n",
    "        if math.log(len(BasicFeatures[common_node][2])) == 0:\n",
    "            return 0.0\n",
    "        score = score + 1/math.log(len(BasicFeatures[common_node][2]))\n",
    "    return score\n",
    "\n",
    "def get_resource_allocation(source, sink):\n",
    "    neighbours_of_source_list = BasicFeatures[source][2]\n",
    "    neighbours_of_sink_list = BasicFeatures[sink][2]\n",
    "#     print(neighbours_of_source_list)\n",
    "#     print(neighbours_of_sink_list)\n",
    "    neigbours_set_of_source = set(neighbours_of_source_list)\n",
    "    neigbours_set_of_sink = set(neighbours_of_sink_list)\n",
    "    \n",
    "    common_neighbours = neigbours_set_of_source & neigbours_set_of_sink\n",
    "#     print(common_neighbours)\n",
    "    score=0\n",
    "    for common_node in common_neighbours:\n",
    "        # number of the neighbours of the common_node\n",
    "        try:\n",
    "            single_common_node_score = 1/BasicFeatures[common_node][0]\n",
    "        except:\n",
    "            single_common_node_score=0\n",
    "        score = score + single_common_node_score\n",
    "    return score\n",
    "    \n",
    "\n",
    "# how similar are the outbound neighbors of source to sink\n",
    "# either JA, PA, AA\n",
    "def get_outbound_similarity_score(source, sink, metric):\n",
    "    # get the outbound_node of source\n",
    "    outbound_node_for_source_set = set(BasicFeatures[source][5])\n",
    "    summation = 0\n",
    "    for outbound_node_for_source in outbound_node_for_source_set:\n",
    "        summation =summation + metric(sink,outbound_node_for_source)\n",
    "    if len(outbound_node_for_source_set) == 0:\n",
    "        return 0\n",
    "    score = 1/len(outbound_node_for_source_set)*summation\n",
    "    return score\n",
    "\n",
    "# either JA, PA, AA\n",
    "def get_inbound_similarity_score(source, sink, metric):\n",
    "    # get the inbound_node of sink\n",
    "    inbound_node_for_sink_set = set(BasicFeatures[source][3])\n",
    "    summation = 0\n",
    "    for inbound_node_for_sink in inbound_node_for_sink_set:\n",
    "        summation =summation + metric(source,inbound_node_for_sink)\n",
    "    if len(inbound_node_for_sink_set) == 0:\n",
    "        return 0\n",
    "    score = 1/len(inbound_node_for_sink_set)*summation\n",
    "    return score\n",
    "\n",
    "def get_common_neighbours(node1, node2):\n",
    "    try:\n",
    "        n1 = pre_features[node1]\n",
    "        n2 = pre_features[node2]\n",
    "        common_neighors = list(set(n1[2]).intersection(n2[2]))\n",
    "        return common_neighors\n",
    "    except:\n",
    "        return 0\n"
   ]
  },
  {
   "cell_type": "code",
   "execution_count": null,
   "metadata": {},
   "outputs": [],
   "source": [
    "filename='edges_10w'\n",
    "with open(filename + \".txt\", 'w', encoding = 'utf8') as f:\n",
    "    f_csv = csv.writer(f)\n",
    "    f_csv.writerows()\n"
   ]
  },
  {
   "cell_type": "code",
   "execution_count": 48,
   "metadata": {},
   "outputs": [],
   "source": [
    "import pandas as pd\n",
    "import math\n",
    "training_df = pd.DataFrame()\n",
    "for edge in final_edges:\n",
    "    source = edge[0]\n",
    "    sink = edge[1]\n",
    "    label = edge[2]\n",
    "    cosine = Cosine(source, sink)\n",
    "    jaccard_coefficient = get_jaccard_coefficient(source, sink)\n",
    "    preferential_attachment = get_preferential_attachment(source, sink)\n",
    "    adamic_adar = get_adamic_adar(source, sink)\n",
    "    resource_allocation = get_resource_allocation(source, sink)\n",
    "    df_row = pd.DataFrame([source, sink, label, cosine, jaccard_coefficient, preferential_attachment, adamic_adar, resource_allocation]).T\n",
    "    training_df = training_df.append(df_row)"
   ]
  },
  {
   "cell_type": "code",
   "execution_count": null,
   "metadata": {},
   "outputs": [],
   "source": [
    "training_df.head"
   ]
  },
  {
   "cell_type": "code",
   "execution_count": 50,
   "metadata": {},
   "outputs": [],
   "source": [
    "save_obj(training_df, 'training_df_10w')"
   ]
  },
  {
   "cell_type": "code",
   "execution_count": 53,
   "metadata": {},
   "outputs": [],
   "source": [
    "def load_obj(name):\n",
    "    with open( name + '.pkl', 'rb') as f:\n",
    "        return pickle.load(f)\n",
    "\n",
    "training_df_10w=load_obj( 'training_df_10w')"
   ]
  },
  {
   "cell_type": "code",
   "execution_count": 55,
   "metadata": {},
   "outputs": [
    {
     "data": {
      "text/plain": [
       "100000"
      ]
     },
     "execution_count": 55,
     "metadata": {},
     "output_type": "execute_result"
    }
   ],
   "source": [
    "len(training_df_10w)"
   ]
  },
  {
   "cell_type": "code",
   "execution_count": 54,
   "metadata": {},
   "outputs": [
    {
     "data": {
      "text/plain": [
       "<bound method NDFrame.head of             0          1    2             3         4           5           6  \\\n",
       "0   4696690.0  1135200.0  0.0  9.264749e-05  0.009830    286656.0    2.981717   \n",
       "0   4802205.0  4047144.0  0.0  0.000000e+00  0.000000       557.0    0.000000   \n",
       "0   1951683.0  4024907.0  0.0  8.571429e-04  0.036585      7000.0    0.555249   \n",
       "0   3542775.0  1239673.0  0.0  0.000000e+00  0.000000       464.0    0.000000   \n",
       "0   2778303.0  1276807.0  0.0  0.000000e+00  0.000000       116.0    0.000000   \n",
       "0   4842507.0  4546609.0  0.0  3.333333e-04  0.008499      8275.0    0.265828   \n",
       "0   2050710.0  2353972.0  0.0  0.000000e+00  0.000000       155.0    0.000000   \n",
       "0   3698046.0  3643090.0  0.0  1.221001e-03  0.004608       645.0    0.073802   \n",
       "0   3672389.0  3959954.0  0.0  4.545455e-05  0.001859     19960.0    0.090343   \n",
       "0   2384341.0  2356939.0  0.0  3.766478e-03  0.011236       531.0    0.170708   \n",
       "0   3571391.0  1144219.0  0.0  0.000000e+00  0.000000        50.0    0.000000   \n",
       "0    451392.0   203622.0  0.0  0.000000e+00  0.000000       114.0    0.000000   \n",
       "0   3676921.0  2717113.0  0.0  0.000000e+00  0.000000        46.0    0.000000   \n",
       "0   2633571.0  3654915.0  0.0  2.824859e-04  0.000963      3108.0    0.073802   \n",
       "0   1999674.0  1368123.0  0.0  0.000000e+00  0.000000       380.0    0.000000   \n",
       "0   1305133.0  2277481.0  0.0  0.000000e+00  0.000000        90.0    0.000000   \n",
       "0   2357487.0  2574465.0  0.0  0.000000e+00  0.000000      1250.0    0.000000   \n",
       "0   1970103.0  1831611.0  0.0  1.382604e-03  0.044715      7956.0    1.098240   \n",
       "0   2524292.0  2878454.0  0.0  2.351558e-03  0.090909      5103.0    1.111419   \n",
       "0   2978385.0  4050596.0  0.0  9.639483e-05  0.004228     18186.0    0.158722   \n",
       "0    374254.0  1852774.0  0.0  1.176471e-03  0.001290       775.0    0.077948   \n",
       "0   4450015.0   902139.0  0.0  0.000000e+00  0.000000        57.0    0.000000   \n",
       "0   3062559.0  1504438.0  0.0  6.430868e-04  0.001503      2662.0    0.158722   \n",
       "0   1904424.0  1655118.0  0.0  0.000000e+00  0.000000         1.0    0.000000   \n",
       "0   3171050.0  2470187.0  0.0  0.000000e+00  0.000000       142.0    0.000000   \n",
       "0   3988798.0  4375563.0  0.0  0.000000e+00  0.000000         7.0    0.000000   \n",
       "0   2292299.0  1743138.0  0.0  2.288330e-03  0.002639       379.0    0.073802   \n",
       "0    399205.0  4095299.0  0.0  1.109878e-04  0.002497     15660.0    0.200432   \n",
       "0   3726633.0  4723423.0  0.0  1.000000e+00  1.000000         1.0    0.073802   \n",
       "0    222174.0  1454341.0  0.0  1.000000e+00  1.000000         1.0    0.073802   \n",
       "..        ...        ...  ...           ...       ...         ...         ...   \n",
       "0   1909985.0  2222482.0  1.0  9.282341e-06  0.001162  11005302.0   10.607515   \n",
       "0   3340231.0  1176065.0  1.0  1.910220e-04  0.032692     71336.0    2.389787   \n",
       "0   4096612.0  4091352.0  1.0  1.340749e-06  0.000019   5203394.0    0.650656   \n",
       "0   3691952.0  3946091.0  1.0  3.683846e-07  0.000020   2473667.0    0.294014   \n",
       "0   3097604.0  1611450.0  1.0  1.497555e-05  0.000136    396477.0    0.525974   \n",
       "0   4096612.0  2381272.0  1.0  3.351871e-07  0.000003   2973368.0    0.097781   \n",
       "0   3097604.0  2943483.0  1.0  1.455956e-05  0.000794   2378862.0    3.237197   \n",
       "0   4096612.0  3298040.0  1.0  0.000000e+00  0.000000    743342.0    0.000000   \n",
       "0     20388.0  1227619.0  1.0  7.453734e-07  0.000010  10677198.0    0.839253   \n",
       "0   3017206.0  4669297.0  1.0  7.534163e-05  0.001806    194788.0    1.786027   \n",
       "0   2695621.0  3267737.0  1.0  1.309555e-05  0.001058   4912960.0    6.459688   \n",
       "0   1638122.0  2739191.0  1.0  1.089092e-05  0.016938  83114415.0  114.332641   \n",
       "0   1719345.0   345926.0  1.0  1.345183e-05  0.009964   7578416.0   10.445243   \n",
       "0     20388.0  2165627.0  1.0  0.000000e+00  0.000000    762657.0    0.000000   \n",
       "0   3036197.0  1536763.0  1.0  6.307822e-05  0.001827     46864.0    0.369503   \n",
       "0   3764731.0  4135364.0  1.0  1.291922e-05  0.002836   2341756.0    3.343336   \n",
       "0   4505818.0   886113.0  1.0  8.046597e-06  0.023999  90589169.0  139.184013   \n",
       "0   4096612.0  2817639.0  1.0  0.000000e+00  0.000000    371671.0    0.000000   \n",
       "0   3624273.0  2989990.0  1.0  4.277160e-04  0.012752     22296.0    1.520178   \n",
       "0   2956481.0  2040196.0  1.0  9.130877e-06  0.000325   2152185.0    1.932402   \n",
       "0   2991814.0  3992412.0  1.0  2.154105e-05  0.001986   2563288.0    5.538442   \n",
       "0   2259583.0  4436983.0  1.0  1.481877e-05  0.000690   2734562.0    3.775644   \n",
       "0     20388.0  3993030.0  1.0  6.211445e-07  0.000026  32031594.0    2.399611   \n",
       "0   4096612.0  1273353.0  1.0  0.000000e+00  0.000000   2230026.0    0.000000   \n",
       "0    370525.0  2269375.0  1.0  1.420922e-04  0.038579    643734.0   11.118056   \n",
       "0   4820881.0  3686453.0  1.0  0.000000e+00  0.000000     31008.0    0.000000   \n",
       "0    209191.0  2790410.0  1.0  8.196318e-05  0.004975    211311.0    2.261253   \n",
       "0   1440901.0  1071528.0  1.0  2.909514e-04  0.002251     12418.0    0.458148   \n",
       "0   1782783.0  4360797.0  1.0  4.771277e-05  0.021154   1502568.0   12.557369   \n",
       "0   1287150.0  4849215.0  1.0  1.130241e-04  0.009646     23749.0    0.264846   \n",
       "\n",
       "           7  \n",
       "0   0.002863  \n",
       "0   0.000000  \n",
       "0   0.000262  \n",
       "0   0.000000  \n",
       "0   0.000000  \n",
       "0   0.000046  \n",
       "0   0.000000  \n",
       "0   0.000001  \n",
       "0   0.000016  \n",
       "0   0.000034  \n",
       "0   0.000000  \n",
       "0   0.000000  \n",
       "0   0.000000  \n",
       "0   0.000001  \n",
       "0   0.000000  \n",
       "0   0.000000  \n",
       "0   0.000000  \n",
       "0   0.001161  \n",
       "0   0.000294  \n",
       "0   0.000009  \n",
       "0   0.000003  \n",
       "0   0.000000  \n",
       "0   0.000009  \n",
       "0   0.000000  \n",
       "0   0.000000  \n",
       "0   0.000000  \n",
       "0   0.000001  \n",
       "0   0.000100  \n",
       "0   0.000001  \n",
       "0   0.000001  \n",
       "..       ...  \n",
       "0   0.010631  \n",
       "0   0.017599  \n",
       "0   0.000426  \n",
       "0   0.033333  \n",
       "0   0.000068  \n",
       "0   0.000036  \n",
       "0   0.000985  \n",
       "0   0.000000  \n",
       "0   0.002837  \n",
       "0   0.004086  \n",
       "0   0.004439  \n",
       "0   0.393710  \n",
       "0   0.010252  \n",
       "0   0.000000  \n",
       "0   0.001362  \n",
       "0   0.007082  \n",
       "0   3.835246  \n",
       "0   0.000000  \n",
       "0   0.007618  \n",
       "0   0.000805  \n",
       "0   0.004471  \n",
       "0   0.000877  \n",
       "0   0.012795  \n",
       "0   0.000000  \n",
       "0   0.022217  \n",
       "0   0.000000  \n",
       "0   0.004585  \n",
       "0   0.001303  \n",
       "0   0.113837  \n",
       "0   0.000037  \n",
       "\n",
       "[100000 rows x 8 columns]>"
      ]
     },
     "execution_count": 54,
     "metadata": {},
     "output_type": "execute_result"
    }
   ],
   "source": [
    "training_df_10w.head"
   ]
  },
  {
   "cell_type": "code",
   "execution_count": null,
   "metadata": {},
   "outputs": [],
   "source": [
    "# generate common neighbours\n",
    "for edge in final_edges:\n",
    "    source = edge[0]\n",
    "    sink = edge[1]\n",
    "    neighbours_of_source = BasicFeatures[source][]\n",
    "    neighbours_of_sink = BasicFeatures[source][]\n",
    "    "
   ]
  },
  {
   "cell_type": "code",
   "execution_count": 5,
   "metadata": {},
   "outputs": [
    {
     "ename": "TypeError",
     "evalue": "writerows() takes no keyword arguments",
     "output_type": "error",
     "traceback": [
      "\u001b[0;31m---------------------------------------------------------------------------\u001b[0m",
      "\u001b[0;31mTypeError\u001b[0m                                 Traceback (most recent call last)",
      "\u001b[0;32m<ipython-input-5-e6817af4cc0e>\u001b[0m in \u001b[0;36m<module>\u001b[0;34m()\u001b[0m\n\u001b[1;32m     23\u001b[0m         \u001b[0mf_csv\u001b[0m\u001b[0;34m.\u001b[0m\u001b[0mwriterows\u001b[0m\u001b[0;34m(\u001b[0m\u001b[0mresult\u001b[0m\u001b[0;34m,\u001b[0m \u001b[0mdelimiter\u001b[0m\u001b[0;34m=\u001b[0m\u001b[0;34m' '\u001b[0m\u001b[0;34m)\u001b[0m\u001b[0;34m\u001b[0m\u001b[0m\n\u001b[1;32m     24\u001b[0m \u001b[0;34m\u001b[0m\u001b[0m\n\u001b[0;32m---> 25\u001b[0;31m \u001b[0msave_prediction_to_csv\u001b[0m\u001b[0;34m(\u001b[0m\u001b[0mEdges\u001b[0m\u001b[0;34m,\u001b[0m\u001b[0;34m'edges'\u001b[0m\u001b[0;34m)\u001b[0m\u001b[0;34m\u001b[0m\u001b[0m\n\u001b[0m",
      "\u001b[0;32m<ipython-input-5-e6817af4cc0e>\u001b[0m in \u001b[0;36msave_prediction_to_csv\u001b[0;34m(result, filename)\u001b[0m\n\u001b[1;32m     21\u001b[0m         \u001b[0mf_csv\u001b[0m \u001b[0;34m=\u001b[0m \u001b[0mcsv\u001b[0m\u001b[0;34m.\u001b[0m\u001b[0mwriter\u001b[0m\u001b[0;34m(\u001b[0m\u001b[0mf\u001b[0m\u001b[0;34m)\u001b[0m\u001b[0;34m\u001b[0m\u001b[0m\n\u001b[1;32m     22\u001b[0m \u001b[0;31m#         f_csv.writerow(headers)\u001b[0m\u001b[0;34m\u001b[0m\u001b[0;34m\u001b[0m\u001b[0m\n\u001b[0;32m---> 23\u001b[0;31m         \u001b[0mf_csv\u001b[0m\u001b[0;34m.\u001b[0m\u001b[0mwriterows\u001b[0m\u001b[0;34m(\u001b[0m\u001b[0mresult\u001b[0m\u001b[0;34m,\u001b[0m \u001b[0mdelimiter\u001b[0m\u001b[0;34m=\u001b[0m\u001b[0;34m' '\u001b[0m\u001b[0;34m)\u001b[0m\u001b[0;34m\u001b[0m\u001b[0m\n\u001b[0m\u001b[1;32m     24\u001b[0m \u001b[0;34m\u001b[0m\u001b[0m\n\u001b[1;32m     25\u001b[0m \u001b[0msave_prediction_to_csv\u001b[0m\u001b[0;34m(\u001b[0m\u001b[0mEdges\u001b[0m\u001b[0;34m,\u001b[0m\u001b[0;34m'edges'\u001b[0m\u001b[0;34m)\u001b[0m\u001b[0;34m\u001b[0m\u001b[0m\n",
      "\u001b[0;31mTypeError\u001b[0m: writerows() takes no keyword arguments"
     ]
    }
   ],
   "source": [
    "import csv\n",
    "import time\n",
    "'''\n",
    "Description: get time\n",
    "Input: \n",
    "Output: time\n",
    "''' \n",
    "def nowtime():\n",
    "    return time.strftime(\"%Y%m%d-%H%M\", time.localtime())\n",
    "\n",
    "\n",
    "\"\"\"\n",
    "Description: Save prediction result to files\n",
    "Input: (1) result\n",
    "       (2) filename\n",
    "Output: \n",
    "\"\"\"\n",
    "def save_prediction_to_csv(result,filename):\n",
    "#     headers = ['id','Prediction']\n",
    "    with open(filename + str(nowtime()) + \".txt\", 'w', encoding = 'utf8') as f:\n",
    "        f_csv = csv.writer(f)\n",
    "#         f_csv.writerow(headers)\n",
    "        for row in result:\n",
    "            f_csv.writerow(result)\n",
    "\n",
    "save_prediction_to_csv(Edges,'edges')"
   ]
  },
  {
   "cell_type": "code",
   "execution_count": null,
   "metadata": {},
   "outputs": [],
   "source": []
  }
 ],
 "metadata": {
  "kernelspec": {
   "display_name": "Python 3",
   "language": "python",
   "name": "python3"
  },
  "language_info": {
   "codemirror_mode": {
    "name": "ipython",
    "version": 3
   },
   "file_extension": ".py",
   "mimetype": "text/x-python",
   "name": "python",
   "nbconvert_exporter": "python",
   "pygments_lexer": "ipython3",
   "version": "3.6.5"
  }
 },
 "nbformat": 4,
 "nbformat_minor": 2
}
