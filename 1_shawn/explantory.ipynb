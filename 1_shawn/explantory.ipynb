{
 "cells": [
  {
   "cell_type": "code",
   "execution_count": 1,
   "metadata": {},
   "outputs": [],
   "source": [
    "import networkx as nx\n",
    "import matplotlib.pyplot as plt\n",
    "import pandas as pd\n",
    "import scipy.sparse as sp\n",
    "import numpy as np\n",
    "from sklearn.metrics import roc_auc_score\n",
    "from sklearn.metrics import average_precision_score\n",
    "import pickle"
   ]
  },
  {
   "cell_type": "markdown",
   "metadata": {},
   "source": [
    "# Import the data"
   ]
  },
  {
   "cell_type": "code",
   "execution_count": 2,
   "metadata": {},
   "outputs": [],
   "source": [
    "data_dir = \"../../data/\"\n",
    "with open(data_dir + \"train.txt\", \"r\") as f:\n",
    "     train_data = f.readlines()"
   ]
  },
  {
   "cell_type": "markdown",
   "metadata": {},
   "source": [
    "# Data structure"
   ]
  },
  {
   "cell_type": "code",
   "execution_count": 3,
   "metadata": {},
   "outputs": [
    {
     "ename": "MemoryError",
     "evalue": "",
     "output_type": "error",
     "traceback": [
      "\u001b[0;31m---------------------------------------------------------------------------\u001b[0m",
      "\u001b[0;31mMemoryError\u001b[0m                               Traceback (most recent call last)",
      "\u001b[0;32m<ipython-input-3-d6ac7ed9aaac>\u001b[0m in \u001b[0;36m<module>\u001b[0;34m()\u001b[0m\n\u001b[1;32m     11\u001b[0m     \u001b[0;32mfor\u001b[0m \u001b[0mnode\u001b[0m \u001b[0;32min\u001b[0m \u001b[0mnodes_list\u001b[0m\u001b[0;34m[\u001b[0m\u001b[0;36m1\u001b[0m\u001b[0;34m:\u001b[0m\u001b[0;34m]\u001b[0m\u001b[0;34m:\u001b[0m\u001b[0;34m\u001b[0m\u001b[0m\n\u001b[1;32m     12\u001b[0m         \u001b[0medges\u001b[0m\u001b[0;34m.\u001b[0m\u001b[0mappend\u001b[0m\u001b[0;34m(\u001b[0m\u001b[0;34m(\u001b[0m\u001b[0mnodes_list\u001b[0m\u001b[0;34m[\u001b[0m\u001b[0;36m0\u001b[0m\u001b[0;34m]\u001b[0m\u001b[0;34m,\u001b[0m\u001b[0mnode\u001b[0m\u001b[0;34m)\u001b[0m\u001b[0;34m)\u001b[0m\u001b[0;34m\u001b[0m\u001b[0m\n\u001b[0;32m---> 13\u001b[0;31m \u001b[0mnodes\u001b[0m \u001b[0;34m=\u001b[0m \u001b[0mset\u001b[0m\u001b[0;34m(\u001b[0m\u001b[0mnodes\u001b[0m\u001b[0;34m)\u001b[0m\u001b[0;34m\u001b[0m\u001b[0m\n\u001b[0m\u001b[1;32m     14\u001b[0m \u001b[0;31m# ordered edges by the source\u001b[0m\u001b[0;34m\u001b[0m\u001b[0;34m\u001b[0m\u001b[0m\n\u001b[1;32m     15\u001b[0m \u001b[0msorted_edges\u001b[0m \u001b[0;34m=\u001b[0m \u001b[0msorted\u001b[0m\u001b[0;34m(\u001b[0m\u001b[0medges\u001b[0m\u001b[0;34m,\u001b[0m \u001b[0mkey\u001b[0m\u001b[0;34m=\u001b[0m\u001b[0;32mlambda\u001b[0m \u001b[0mtup\u001b[0m\u001b[0;34m:\u001b[0m \u001b[0mtup\u001b[0m\u001b[0;34m[\u001b[0m\u001b[0;36m0\u001b[0m\u001b[0;34m]\u001b[0m\u001b[0;34m)\u001b[0m\u001b[0;34m\u001b[0m\u001b[0m\n",
      "\u001b[0;31mMemoryError\u001b[0m: "
     ]
    }
   ],
   "source": [
    "# 1. node set\n",
    "# 2. edge tuple\n",
    "nodes = []\n",
    "edges = []\n",
    "for i in range(len(train_data)):\n",
    "    #if i%100 == 0:\n",
    "        #print(i)\n",
    "    nodes_list = [int(n) for n in train_data[i].split()]\n",
    "    for node in nodes_list:\n",
    "        nodes.append(node)\n",
    "    for node in nodes_list[1:]:\n",
    "        edges.append((nodes_list[0],node))\n",
    "nodes = set(nodes)\n",
    "# ordered edges by the source\n",
    "sorted_edges = sorted(edges, key=lambda tup: tup[0])\n"
   ]
  },
  {
   "cell_type": "code",
   "execution_count": null,
   "metadata": {},
   "outputs": [],
   "source": [
    "for sorted_edge in sorted_edges:\n",
    "    if i <= 10:\n",
    "        print(sorted_edge)\n",
    "    else:\n",
    "        break\n",
    "    "
   ]
  },
  {
   "cell_type": "code",
   "execution_count": null,
   "metadata": {},
   "outputs": [],
   "source": [
    "find_neighbours(id):\n",
    "    \"\"\"\n",
    "    find all the neighbours of node by id.\n",
    "    1. All the sink node of node id will be appended as the neighbor first.\n",
    "    2. All the source node of node id will also be added as neighbor then.\n",
    "    3. return the neighbor set.\n",
    "    \"\"\"\n",
    "    neighbor_set = set()\n",
    "    for edge in sorted_edges:\n",
    "        if edge[0] == id:\n",
    "            # add the sink node of node id\n",
    "            neighbor_set.add(edge[1])\n",
    "        elif edge[1] == id:\n",
    "            # add the source node of node id\n",
    "            neigbor_set.add(edge[0])\n",
    "    return neigbor_set\n",
    "        \n",
    "    \n"
   ]
  },
  {
   "cell_type": "code",
   "execution_count": null,
   "metadata": {},
   "outputs": [],
   "source": []
  },
  {
   "cell_type": "markdown",
   "metadata": {},
   "source": [
    "# Build graphs "
   ]
  },
  {
   "cell_type": "code",
   "execution_count": null,
   "metadata": {},
   "outputs": [],
   "source": [
    "# General node class\n",
    "class Node:\n",
    "    def __init__(self, node_id, negihbour_id_set):\n",
    "        self.node_id = node_id\n",
    "        self.negihbour_id_set = negihbour_id_set\n",
    "    def get_node_id():\n",
    "        return self.get_node_id\n",
    "    def get_negihbour_id_set():\n",
    "        return self.negihbour_id_set\n",
    "\n",
    "node = Node(id,find_neighbours(id))\n"
   ]
  },
  {
   "cell_type": "code",
   "execution_count": null,
   "metadata": {},
   "outputs": [],
   "source": [
    "def get_jaccard_coefficient(node_x, node_y):\n",
    "    \"\"\"\n",
    "    in: node_x::Node object\n",
    "    in: node_y::Node object\n",
    "    return: jaccard's cofficient::numeric\n",
    "    \"\"\"\n",
    "    score = 0.0\n",
    "    neigbours_set_of_node_x = node_x.get_negihbour_id_set()\n",
    "    neigbours_set_of_node_y = node_y.get_negihbour_id_set()\n",
    "    union_neighbours = neigbours_set_of_node_x | neigbours_set_of_node_y\n",
    "    common_neighbours = neigbours_set_of_node_x & neigbours_set_of_node_y\n",
    "    return(len(common_neighbours)/len(union_neighbours))\n",
    "\n"
   ]
  },
  {
   "cell_type": "code",
   "execution_count": null,
   "metadata": {},
   "outputs": [],
   "source": [
    "\n",
    "#     def get_general_neighbour_ids():\n",
    "#         return self.general_neighbour_ids\n",
    "        \n",
    "#     def get_source_neighbour_ids():\n",
    "#         return self.source_neighbour_ids\n",
    "        \n",
    "#     def get_sink_neighbour_ids():\n",
    "#         return self.sink_neighbour_ids\n",
    "        \n",
    "#     def get_length_of_general_neighbours():\n",
    "#         return len(self.general_neighbour_ids)\n",
    "        \n",
    "#     def get_length_of_source_neighbours():\n",
    "#         return len(self.source_neighbour_ids)\n",
    "\n",
    "#     def get_length_of_sink_neighbours():\n",
    "#         return len(self.sink_neighbour_ids)\n",
    "\n",
    "    \n",
    "# 生成对象集合\n",
    "flag_id = 0\n",
    "\n",
    "for sorted_edge in sorted_edges:\n",
    "    \n",
    "    if sorted_edge[0] != flag_id:\n",
    "        # 如果是新的节点，要重新实例化对象\n",
    "        general_neighbour_ids = set()\n",
    "        source_neighbour_ids = set()\n",
    "#         sink_neighbour_ids = set()\n",
    "        \n",
    "        Node(sorted_edge[0])\n",
    "    else:\n",
    "        # 如果是同一个的话\n",
    "    \n",
    "\n",
    "        \n",
    "    "
   ]
  },
  {
   "cell_type": "code",
   "execution_count": null,
   "metadata": {},
   "outputs": [],
   "source": [
    "def get_neighbours(edge_list, node):\n",
    "    # either source or sink will be considered to be a neighbour \n",
    "    for node in \n",
    "    print()\n",
    "    "
   ]
  },
  {
   "cell_type": "code",
   "execution_count": null,
   "metadata": {},
   "outputs": [],
   "source": []
  },
  {
   "cell_type": "code",
   "execution_count": null,
   "metadata": {},
   "outputs": [],
   "source": []
  },
  {
   "cell_type": "code",
   "execution_count": null,
   "metadata": {},
   "outputs": [],
   "source": []
  },
  {
   "cell_type": "code",
   "execution_count": null,
   "metadata": {},
   "outputs": [],
   "source": []
  },
  {
   "cell_type": "code",
   "execution_count": null,
   "metadata": {},
   "outputs": [],
   "source": []
  },
  {
   "cell_type": "markdown",
   "metadata": {},
   "source": [
    "# Jaccard's coefficient"
   ]
  },
  {
   "cell_type": "code",
   "execution_count": null,
   "metadata": {},
   "outputs": [],
   "source": [
    "def get_jaccard_coefficient(graph, node_x, node_y):\n",
    "    score = 0.0\n",
    "    common_neighbors = sorted(nx.common_neighbors(graph, node_x, node_y))\n",
    "    union_neighbors = set(sorted(nx.all_neighbors(graph, node_x)) + sorted(nx.all_neighbors(graph, node_y)))\n",
    "#     node_y_neighbors = sorted(nx.all_neighbors(graph, node_y))\n",
    "#     union_list = \n",
    "    return(len(common_neighbors)/len(union_neighbors))\n",
    "\n",
    "print(get_jaccard_coefficient(graph,2184483,1300190))\n",
    "    "
   ]
  },
  {
   "cell_type": "code",
   "execution_count": null,
   "metadata": {},
   "outputs": [],
   "source": []
  },
  {
   "cell_type": "code",
   "execution_count": null,
   "metadata": {},
   "outputs": [],
   "source": []
  },
  {
   "cell_type": "code",
   "execution_count": null,
   "metadata": {},
   "outputs": [],
   "source": []
  }
 ],
 "metadata": {
  "kernelspec": {
   "display_name": "Python 3",
   "language": "python",
   "name": "python3"
  },
  "language_info": {
   "codemirror_mode": {
    "name": "ipython",
    "version": 3
   },
   "file_extension": ".py",
   "mimetype": "text/x-python",
   "name": "python",
   "nbconvert_exporter": "python",
   "pygments_lexer": "ipython3",
   "version": "3.6.5"
  }
 },
 "nbformat": 4,
 "nbformat_minor": 2
}
