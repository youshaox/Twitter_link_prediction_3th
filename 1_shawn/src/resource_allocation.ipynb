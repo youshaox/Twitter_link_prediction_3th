{
 "cells": [
  {
   "cell_type": "code",
   "execution_count": 1,
   "metadata": {},
   "outputs": [],
   "source": [
    "import pandas as pd\n",
    "import pickle\n",
    "import math"
   ]
  },
  {
   "cell_type": "code",
   "execution_count": 2,
   "metadata": {},
   "outputs": [],
   "source": [
    "data_dir = \"../../../data/\"\n",
    "def save_obj(obj, name ):\n",
    "    with open( name + '.pkl', 'wb') as f:\n",
    "        pickle.dump(obj, f, pickle.HIGHEST_PROTOCOL)\n",
    "\n",
    "def load_obj(name):\n",
    "    with open(data_dir + name + '.pkl', 'rb') as f:\n",
    "        return pickle.load(f)\n",
    "# load data\n",
    "# Edges = load_obj(\"New_Edges\")\n",
    "# Nodes = load_obj(\"New_Nodes\")\n",
    "# dict\n",
    "# feature_Name = [\"Number of neighbours\", \"Log(Num of nei)\", \"list of Neighbours\", \"list of in neighbous\", \n",
    "#                 \"number of in_nei\", \"list of out neig\", \"num of out neig\"]\n",
    "BasicFeatures = load_obj(\"pre_features-v2\")"
   ]
  },
  {
   "cell_type": "code",
   "execution_count": 9,
   "metadata": {},
   "outputs": [
    {
     "name": "stdout",
     "output_type": "stream",
     "text": [
      "4867136\n",
      "0\n",
      "4867136\n"
     ]
    }
   ],
   "source": [
    "in_cnt=0\n",
    "out_cnt=0\n",
    "cnt=0\n",
    "for node in BasicFeatures:\n",
    "    if BasicFeatures[node][4]>0:\n",
    "        in_cnt+=1\n",
    "    elif BasicFeatures[node][6]>0:\n",
    "        out_cnt+=1\n",
    "        print(BasicFeatures[node][6])\n",
    "    cnt+=1\n",
    "print(in_cnt)\n",
    "print(out_cnt)\n",
    "print(cnt) "
   ]
  },
  {
   "cell_type": "code",
   "execution_count": null,
   "metadata": {},
   "outputs": [],
   "source": []
  }
 ],
 "metadata": {
  "kernelspec": {
   "display_name": "Python 3",
   "language": "python",
   "name": "python3"
  },
  "language_info": {
   "codemirror_mode": {
    "name": "ipython",
    "version": 3
   },
   "file_extension": ".py",
   "mimetype": "text/x-python",
   "name": "python",
   "nbconvert_exporter": "python",
   "pygments_lexer": "ipython3",
   "version": "3.6.5"
  }
 },
 "nbformat": 4,
 "nbformat_minor": 2
}
