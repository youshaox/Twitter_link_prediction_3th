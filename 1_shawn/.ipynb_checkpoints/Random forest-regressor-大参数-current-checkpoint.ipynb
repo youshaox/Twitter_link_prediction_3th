{
 "cells": [
  {
   "cell_type": "markdown",
   "metadata": {},
   "source": [
    "#### Load the data"
   ]
  },
  {
   "cell_type": "code",
   "execution_count": 14,
   "metadata": {},
   "outputs": [],
   "source": [
    "import pandas as pd\n",
    "import pickle\n",
    "import math\n",
    "import numpy as np\n",
    "import pandas as pd\n",
    "from sklearn.ensemble import RandomForestRegressor\n",
    "from sklearn.grid_search import GridSearchCV\n",
    "from sklearn.cross_validation import train_test_split, cross_val_score\n",
    "from sklearn.pipeline import Pipeline\n",
    "from sklearn.model_selection import train_test_split\n",
    "from sklearn.metrics import precision_score, recall_score, accuracy_score, roc_auc_score\n",
    "from sklearn.preprocessing import MinMaxScaler\n",
    "from sklearn.preprocessing import StandardScaler\n",
    "from tqdm import tqdm\n",
    "import csv\n",
    "import time"
   ]
  },
  {
   "cell_type": "code",
   "execution_count": 2,
   "metadata": {},
   "outputs": [],
   "source": [
    "# pre\n",
    "data_dir = \"../../data/\"\n",
    "def save_obj(obj, name ):\n",
    "    with open( name + '.pkl', 'wb') as f:\n",
    "        pickle.dump(obj, f, pickle.HIGHEST_PROTOCOL)\n",
    "\n",
    "def load_obj(name):\n",
    "    with open(data_dir + name + '.pkl', 'rb') as f:\n",
    "        return pickle.load(f)\n",
    "    \n",
    "training_data_list = load_obj(\"SBdata_all_feature-v2\")\n",
    "test_data = load_obj(\"SB_testData_all_feature-V2\")\n",
    "\n",
    "# Get the training_data_df\n",
    "training_data_df = pd.DataFrame(training_data_list) \n",
    "final_training_data_df = training_data_df.iloc[:,2:20]\n",
    "# 0.511756 0.028259\n",
    "# get the labeled data df\n",
    "final_labels_df = training_data_df.iloc[:,1]\n",
    "test_data_df = pd.DataFrame(test_data) "
   ]
  },
  {
   "cell_type": "code",
   "execution_count": null,
   "metadata": {},
   "outputs": [
    {
     "name": "stdout",
     "output_type": "stream",
     "text": [
      "Fitting 3 folds for each of 24 candidates, totalling 72 fits\n"
     ]
    }
   ],
   "source": [
    "# modeling\n",
    "X=final_training_data_df\n",
    "\n",
    "# get the data and label\n",
    "y=final_labels_df\n",
    "\n",
    "# training model\n",
    "from sklearn.model_selection import train_test_split\n",
    "X_t, X_test, y_t, y_test = train_test_split(X,y)\n",
    "X_train, X_validation, y_train, y_validation  = train_test_split(X_t,y_t)\n",
    "\n",
    "# Gridsearch settings\n",
    "rf = RandomForestRegressor()\n",
    "X_train = X_t\n",
    "y_train = y_t\n",
    "\n",
    "pipeline = Pipeline([\n",
    "       ('clf', RandomForestRegressor(criterion='mse'))\n",
    "   ])\n",
    "parameters = {\n",
    "       'clf__n_estimators': (50,100),\n",
    "       'clf__max_depth': (10, 30, 50),\n",
    "       'clf__min_samples_split': (10, 50),\n",
    "       'clf__min_samples_leaf': (10, 50)\n",
    "}\n",
    "grid_search = GridSearchCV(pipeline, parameters, n_jobs=-1,\n",
    "   verbose=1, scoring='roc_auc', cv=3)\n",
    "\n",
    "grid_search.fit(X_train, y_train)\n",
    "print('Best score: %0.3f' % grid_search.best_score_)\n",
    "print('Best parameters set:')\n",
    "best_parameters = grid_search.best_estimator_.get_params()\n",
    "for param_name in sorted(parameters.keys()):\n",
    "    print('\\t%s: %r' % (param_name, best_parameters[param_name]))\n",
    "predictions = grid_search.predict(X_test)\n",
    "print('Accuracy:', accuracy_score(y_test, predictions))\n",
    "print('Precision:', precision_score(y_test, predictions))\n",
    "print('Recall:', recall_score(y_test, predictions))\n",
    "\n",
    "\n",
    "\n",
    "\n",
    "\n",
    "def predict():\n",
    "    \"\"\"\n",
    "    make the prediction using the jaccard's coefficient\n",
    "    \"\"\"\n",
    "    result = []\n",
    "    cnt=0\n",
    "    for row in test_data_df.iterrows():\n",
    "        row_df = pd.DataFrame(row[1]).T\n",
    "        single_result = grid_search.predict(row_df)[0]\n",
    "#         print(model.predict(row_df)[0][0])\n",
    "        cnt+=1\n",
    "        result.append((cnt, single_result))\n",
    "        print(cnt)\n",
    "    return result\n",
    "result = predict()\n",
    "\n",
    "\n",
    "'''\n",
    "Description: get time\n",
    "Input: \n",
    "Output: time\n",
    "''' \n",
    "def nowtime():\n",
    "    return time.strftime(\"%Y%m%d-%H%M\", time.localtime())\n",
    "\n",
    "\n",
    "\"\"\"\n",
    "Description: Save prediction result to files\n",
    "Input: (1) result\n",
    "       (2) filename\n",
    "Output: \n",
    "\"\"\"\n",
    "def save_prediction_to_csv(result,filename):\n",
    "    headers = ['id','Prediction']\n",
    "\n",
    "    with open(filename + str(nowtime()) + \".csv\", 'w', encoding = 'utf8') as f:\n",
    "        f_csv = csv.writer(f)\n",
    "        f_csv.writerow(headers)\n",
    "        f_csv.writerows(result)\n",
    "save_prediction_to_csv(result, \"shawn_rf_regressor_small-v2\")"
   ]
  },
  {
   "cell_type": "markdown",
   "metadata": {},
   "source": [
    "# Save the result of the prediction"
   ]
  },
  {
   "cell_type": "markdown",
   "metadata": {},
   "source": [
    "# Modelling"
   ]
  },
  {
   "cell_type": "markdown",
   "metadata": {},
   "source": [
    "# Please save the training set as the csv file."
   ]
  },
  {
   "cell_type": "markdown",
   "metadata": {},
   "source": [
    "# Prediction"
   ]
  },
  {
   "cell_type": "code",
   "execution_count": null,
   "metadata": {},
   "outputs": [],
   "source": [
    "result"
   ]
  }
 ],
 "metadata": {
  "kernelspec": {
   "display_name": "Python 3",
   "language": "python",
   "name": "python3"
  },
  "language_info": {
   "codemirror_mode": {
    "name": "ipython",
    "version": 3
   },
   "file_extension": ".py",
   "mimetype": "text/x-python",
   "name": "python",
   "nbconvert_exporter": "python",
   "pygments_lexer": "ipython3",
   "version": "3.6.5"
  }
 },
 "nbformat": 4,
 "nbformat_minor": 2
}
