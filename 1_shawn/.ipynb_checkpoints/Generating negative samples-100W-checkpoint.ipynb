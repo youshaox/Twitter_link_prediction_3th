{
 "cells": [
  {
   "cell_type": "code",
   "execution_count": 10,
   "metadata": {},
   "outputs": [],
   "source": [
    "import pickle\n",
    "import math\n",
    "\n",
    "data_dir = \"../../data/\"\n",
    "\n",
    "with open(data_dir + \"train.txt\", \"r\") as f:\n",
    "     train_data = f.readlines()\n",
    "Nodes = []\n",
    "Edges = []\n",
    "for i in range(len(train_data)):\n",
    "    #if i%100 == 0:\n",
    "        #print(i)\n",
    "    nodes_list = [int(n) for n in train_data[i].split()]\n",
    "    for node in nodes_list:\n",
    "        Nodes.append(node)\n",
    "    for node in nodes_list[1:]:\n",
    "        Edges.append((nodes_list[0],node))\n",
    "Nodes = set(Nodes)\n"
   ]
  },
  {
   "cell_type": "code",
   "execution_count": 132,
   "metadata": {},
   "outputs": [],
   "source": [
    "# 找到所有的test_data中的点\n",
    "data_dir = \"../../data/\"\n",
    "with open(data_dir + \"test-public.txt\", \"r\") as f:\n",
    "     test_data = f.readlines()\n",
    "test_data = [i.split() for i in test_data[1:]]\n",
    "\n",
    "nodes_in_test_data = set()\n",
    "for edge in test_data:\n",
    "    nodes_in_test_data.add(edge[1])\n",
    "    nodes_in_test_data.add(edge[2])"
   ]
  },
  {
   "cell_type": "code",
   "execution_count": 133,
   "metadata": {},
   "outputs": [
    {
     "data": {
      "text/plain": [
       "3948"
      ]
     },
     "execution_count": 133,
     "metadata": {},
     "output_type": "execute_result"
    }
   ],
   "source": [
    "len(nodes_in_test_data)"
   ]
  },
  {
   "cell_type": "code",
   "execution_count": 11,
   "metadata": {},
   "outputs": [],
   "source": [
    "data_dir = \"../../data/\"\n",
    "def save_obj(obj, name ):\n",
    "    with open( name + '.pkl', 'wb') as f:\n",
    "        pickle.dump(obj, f, pickle.HIGHEST_PROTOCOL)\n",
    "\n",
    "def load_obj(name):\n",
    "    with open(data_dir + name + '.pkl', 'rb') as f:\n",
    "        return pickle.load(f)\n",
    "# load data\n",
    "BasicFeatures = load_obj(\"pre_features\")"
   ]
  },
  {
   "cell_type": "code",
   "execution_count": 134,
   "metadata": {},
   "outputs": [],
   "source": [
    "data_dir = \"../../data/\"\n",
    "\n",
    "with open(data_dir + \"edges.txt\", \"r\") as f:\n",
    "    read_rows = f.readlines()\n",
    "    \n",
    "\n",
    "rows = [i.split() for i in read_rows[0:]]\n",
    "edges_of_all_test_nodes_related=list()\n",
    "\n",
    "for row in rows:\n",
    "    row[0] = int(row[0])\n",
    "    row[1] = int(row[1])\n",
    "    edge = (row[0], row[1])\n",
    "    if str(row[0]) in nodes_in_test_data or str(row[1]) in nodes_in_test_data:\n",
    "        edges_of_all_test_nodes_related.append(edge)"
   ]
  },
  {
   "cell_type": "code",
   "execution_count": 135,
   "metadata": {},
   "outputs": [
    {
     "data": {
      "text/plain": [
       "5068485"
      ]
     },
     "execution_count": 135,
     "metadata": {},
     "output_type": "execute_result"
    }
   ],
   "source": [
    "len(edges_of_all_test_nodes_related)"
   ]
  },
  {
   "cell_type": "code",
   "execution_count": 37,
   "metadata": {},
   "outputs": [],
   "source": [
    "def save_obj(obj, name ):\n",
    "    with open( name + '.pkl', 'wb') as f:\n",
    "        pickle.dump(obj, f, pickle.HIGHEST_PROTOCOL)\n",
    "\n",
    "def load_obj(name):\n",
    "    with open(data_dir + name + '.pkl', 'rb') as f:\n",
    "        return pickle.load(f)\n",
    "# save_obj(edges_of_all_test_nodes_related,\"edges_of_all_test_nodes_related\")"
   ]
  },
  {
   "cell_type": "code",
   "execution_count": 6,
   "metadata": {},
   "outputs": [],
   "source": [
    "import pickle\n",
    "\n",
    "def load_obj(name):\n",
    "    with open(name + '.pkl', 'rb') as f:\n",
    "        return pickle.load(f)\n",
    "data_dir = \"../../data/\"\n",
    "\n",
    "import csv\n",
    "filename='edges_of_all_test_nodes_related'\n",
    "edges_of_all_test_nodes_related = load_obj(filename)\n",
    "with open(filename + \".txt\", 'w', encoding = 'utf8') as f:\n",
    "    f_csv = csv.writer(f)\n",
    "    f_csv.writerows(edges_of_all_test_nodes_related)\n"
   ]
  },
  {
   "cell_type": "code",
   "execution_count": 7,
   "metadata": {},
   "outputs": [
    {
     "data": {
      "text/plain": [
       "5068485"
      ]
     },
     "execution_count": 7,
     "metadata": {},
     "output_type": "execute_result"
    }
   ],
   "source": [
    "len(edges_of_all_test_nodes_related)"
   ]
  },
  {
   "cell_type": "code",
   "execution_count": 8,
   "metadata": {},
   "outputs": [
    {
     "data": {
      "text/plain": [
       "(625451, 2593244)"
      ]
     },
     "execution_count": 8,
     "metadata": {},
     "output_type": "execute_result"
    }
   ],
   "source": [
    "# 500w里选5w\n",
    "import random\n",
    "ps_edges = random.sample(edges_of_all_test_nodes_related, 50000)\n",
    "len(ps_edges)\n",
    "ps_edges[0]\n"
   ]
  },
  {
   "cell_type": "code",
   "execution_count": null,
   "metadata": {},
   "outputs": [],
   "source": []
  },
  {
   "cell_type": "code",
   "execution_count": 9,
   "metadata": {},
   "outputs": [],
   "source": [
    "nodes = set()\n",
    "for edge in ps_edges:\n",
    "    nodes.add(edge[0])\n",
    "    nodes.add(edge[1])"
   ]
  },
  {
   "cell_type": "code",
   "execution_count": 16,
   "metadata": {},
   "outputs": [
    {
     "data": {
      "text/plain": [
       "47960"
      ]
     },
     "execution_count": 16,
     "metadata": {},
     "output_type": "execute_result"
    }
   ],
   "source": [
    "len(ps_edges)\n",
    "len(nodes)"
   ]
  },
  {
   "cell_type": "code",
   "execution_count": null,
   "metadata": {},
   "outputs": [],
   "source": [
    "from tqdm import tqdm\n",
    "\n",
    "count = 0\n",
    "final_edges=list()\n",
    "while count < 50000:\n",
    "    node1, node2 = random.sample(nodes,2)\n",
    "    if (node1,node2) not in ps_edges:\n",
    "        count+=1\n",
    "        final_edges.append((node1,node2,0))"
   ]
  },
  {
   "cell_type": "code",
   "execution_count": 33,
   "metadata": {},
   "outputs": [],
   "source": [
    "# final_edges\n",
    "negative_edges = final_edges"
   ]
  },
  {
   "cell_type": "code",
   "execution_count": 35,
   "metadata": {},
   "outputs": [],
   "source": [
    "for edge in ps_edges:\n",
    "    final_edges.append((edge[0], edge[1], 1))"
   ]
  },
  {
   "cell_type": "code",
   "execution_count": 38,
   "metadata": {},
   "outputs": [],
   "source": [
    "save_obj(final_edges,'final_edges')"
   ]
  },
  {
   "cell_type": "code",
   "execution_count": 42,
   "metadata": {},
   "outputs": [
    {
     "data": {
      "text/plain": [
       "100000"
      ]
     },
     "execution_count": 42,
     "metadata": {},
     "output_type": "execute_result"
    }
   ],
   "source": [
    "len(final_edges)\n",
    "# print(final_edges)"
   ]
  },
  {
   "cell_type": "code",
   "execution_count": 43,
   "metadata": {},
   "outputs": [],
   "source": [
    "# Genative labels\n",
    "BasicFeatures = load_obj(\"pre_features\")\n",
    "pre_features=BasicFeatures\n",
    "#Cosine\n",
    "def Cosine(Node1, Node2):\n",
    "    n1 = pre_features[Node1]\n",
    "    n2 = pre_features[Node2]\n",
    "    common_neighors = list(set(n1[2]).intersection(n2[2]))\n",
    "    lm = len(common_neighors)\n",
    "    if lm == 0:\n",
    "        return 0\n",
    "    else:\n",
    "        return (0.0+lm)/(len(n1[2])*len(n2[2]))\n",
    "\n",
    "def get_jaccard_coefficient(source, sink):\n",
    "    \"\"\"\n",
    "    in: source::Node object\n",
    "    in: sink::Node object\n",
    "    return: jaccard's cofficient::numeric\n",
    "    \"\"\"\n",
    "    # transform\n",
    "    neighbours_of_source_list = BasicFeatures[source][2]\n",
    "    neighbours_of_sink_list = BasicFeatures[sink][2]\n",
    "    \n",
    "    neigbours_set_of_source = set(neighbours_of_source_list)\n",
    "    neigbours_set_of_sink = set(neighbours_of_sink_list)\n",
    "    union_neighbours = neigbours_set_of_source | neigbours_set_of_sink\n",
    "    common_neighbours = neigbours_set_of_source & neigbours_set_of_sink\n",
    "    if len(union_neighbours)==0:\n",
    "        return 0.0\n",
    "    return(len(common_neighbours)/len(union_neighbours))\n",
    "\n",
    "def get_preferential_attachment(source, sink):\n",
    "    # transform\n",
    "    neighbours_of_source_list = BasicFeatures[source][2]\n",
    "    neighbours_of_sink_list = BasicFeatures[sink][2]\n",
    "    \n",
    "    neigbours_set_of_source = set(neighbours_of_source_list)\n",
    "    neigbours_set_of_sink = set(neighbours_of_sink_list)\n",
    "    \n",
    "    return len(neigbours_set_of_source)*len(neigbours_set_of_sink)\n",
    "\n",
    "def get_adamic_adar(source, sink):\n",
    "    # transform\n",
    "    neighbours_of_source_list = BasicFeatures[source][2]\n",
    "    neighbours_of_sink_list = BasicFeatures[sink][2]\n",
    "\n",
    "    neigbours_set_of_source = set(neighbours_of_source_list)\n",
    "    neigbours_set_of_sink = set(neighbours_of_sink_list)\n",
    "    common_neighbours = neigbours_set_of_source & neigbours_set_of_sink\n",
    "    # get the summation\n",
    "    score = 0\n",
    "    for common_node in common_neighbours:\n",
    "        if math.log(len(BasicFeatures[common_node][2])) == 0:\n",
    "            return 0.0\n",
    "        score = score + 1/math.log(len(BasicFeatures[common_node][2]))\n",
    "    return score\n",
    "\n",
    "def get_resource_allocation(source, sink):\n",
    "    neighbours_of_source_list = BasicFeatures[source][2]\n",
    "    neighbours_of_sink_list = BasicFeatures[sink][2]\n",
    "#     print(neighbours_of_source_list)\n",
    "#     print(neighbours_of_sink_list)\n",
    "    neigbours_set_of_source = set(neighbours_of_source_list)\n",
    "    neigbours_set_of_sink = set(neighbours_of_sink_list)\n",
    "    \n",
    "    common_neighbours = neigbours_set_of_source & neigbours_set_of_sink\n",
    "#     print(common_neighbours)\n",
    "    score=0\n",
    "    for common_node in common_neighbours:\n",
    "        # number of the neighbours of the common_node\n",
    "        try:\n",
    "            single_common_node_score = 1/BasicFeatures[common_node][0]\n",
    "        except:\n",
    "            single_common_node_score=0\n",
    "        score = score + single_common_node_score\n",
    "    return score\n",
    "    \n",
    "\n",
    "# how similar are the outbound neighbors of source to sink\n",
    "# either JA, PA, AA\n",
    "def get_outbound_similarity_score(source, sink, metric):\n",
    "    # get the outbound_node of source\n",
    "    outbound_node_for_source_set = set(BasicFeatures[source][5])\n",
    "    summation = 0\n",
    "    for outbound_node_for_source in outbound_node_for_source_set:\n",
    "        summation =summation + metric(sink,outbound_node_for_source)\n",
    "    if len(outbound_node_for_source_set) == 0:\n",
    "        return 0\n",
    "    score = 1/len(outbound_node_for_source_set)*summation\n",
    "    return score\n",
    "\n",
    "# either JA, PA, AA\n",
    "def get_inbound_similarity_score(source, sink, metric):\n",
    "    # get the inbound_node of sink\n",
    "    inbound_node_for_sink_set = set(BasicFeatures[source][3])\n",
    "    summation = 0\n",
    "    for inbound_node_for_sink in inbound_node_for_sink_set:\n",
    "        summation =summation + metric(source,inbound_node_for_sink)\n",
    "    if len(inbound_node_for_sink_set) == 0:\n",
    "        return 0\n",
    "    score = 1/len(inbound_node_for_sink_set)*summation\n",
    "    return score\n",
    "\n",
    "def get_common_neighbours(node1, node2):\n",
    "    try:\n",
    "        n1 = pre_features[node1]\n",
    "        n2 = pre_features[node2]\n",
    "        common_neighors = list(set(n1[2]).intersection(n2[2]))\n",
    "        return common_neighors\n",
    "    except:\n",
    "        return 0\n"
   ]
  },
  {
   "cell_type": "code",
   "execution_count": null,
   "metadata": {},
   "outputs": [],
   "source": [
    "final_edges"
   ]
  },
  {
   "cell_type": "code",
   "execution_count": null,
   "metadata": {},
   "outputs": [],
   "source": [
    "filename='edges_10w'\n",
    "with open(filename + \".txt\", 'w', encoding = 'utf8') as f:\n",
    "    f_csv = csv.writer(f)\n",
    "    f_csv.writerows()\n"
   ]
  },
  {
   "cell_type": "code",
   "execution_count": null,
   "metadata": {},
   "outputs": [],
   "source": [
    "import pandas as pd\n",
    "import math\n",
    "training_df = pd.DataFrame()\n",
    "for edge in final_edges:\n",
    "    source = edge[0]\n",
    "    sink = edge[1]\n",
    "    label = edge[2]\n",
    "    cosine = Cosine(source, sink)\n",
    "    jaccard_coefficient = get_jaccard_coefficient(source, sink)\n",
    "    preferential_attachment = get_preferential_attachment(source, sink)\n",
    "    adamic_adar = get_adamic_adar(source, sink)\n",
    "    resource_allocation = get_resource_allocation(source, sink)\n",
    "    df_row = pd.DataFrame([source, sink, label, cosine, jaccard_coefficient, preferential_attachment, adamic_adar, resource_allocation]).T\n",
    "    training_df = training_df.append(df_row)"
   ]
  },
  {
   "cell_type": "code",
   "execution_count": null,
   "metadata": {},
   "outputs": [],
   "source": [
    "training_df"
   ]
  },
  {
   "cell_type": "code",
   "execution_count": null,
   "metadata": {},
   "outputs": [],
   "source": [
    "# generate common neighbours\n",
    "for edge in final_edges:\n",
    "    source = edge[0]\n",
    "    sink = edge[1]\n",
    "    neighbours_of_source = BasicFeatures[source][]\n",
    "    neighbours_of_sink = BasicFeatures[source][]\n",
    "    "
   ]
  },
  {
   "cell_type": "code",
   "execution_count": 5,
   "metadata": {},
   "outputs": [
    {
     "ename": "TypeError",
     "evalue": "writerows() takes no keyword arguments",
     "output_type": "error",
     "traceback": [
      "\u001b[0;31m---------------------------------------------------------------------------\u001b[0m",
      "\u001b[0;31mTypeError\u001b[0m                                 Traceback (most recent call last)",
      "\u001b[0;32m<ipython-input-5-e6817af4cc0e>\u001b[0m in \u001b[0;36m<module>\u001b[0;34m()\u001b[0m\n\u001b[1;32m     23\u001b[0m         \u001b[0mf_csv\u001b[0m\u001b[0;34m.\u001b[0m\u001b[0mwriterows\u001b[0m\u001b[0;34m(\u001b[0m\u001b[0mresult\u001b[0m\u001b[0;34m,\u001b[0m \u001b[0mdelimiter\u001b[0m\u001b[0;34m=\u001b[0m\u001b[0;34m' '\u001b[0m\u001b[0;34m)\u001b[0m\u001b[0;34m\u001b[0m\u001b[0m\n\u001b[1;32m     24\u001b[0m \u001b[0;34m\u001b[0m\u001b[0m\n\u001b[0;32m---> 25\u001b[0;31m \u001b[0msave_prediction_to_csv\u001b[0m\u001b[0;34m(\u001b[0m\u001b[0mEdges\u001b[0m\u001b[0;34m,\u001b[0m\u001b[0;34m'edges'\u001b[0m\u001b[0;34m)\u001b[0m\u001b[0;34m\u001b[0m\u001b[0m\n\u001b[0m",
      "\u001b[0;32m<ipython-input-5-e6817af4cc0e>\u001b[0m in \u001b[0;36msave_prediction_to_csv\u001b[0;34m(result, filename)\u001b[0m\n\u001b[1;32m     21\u001b[0m         \u001b[0mf_csv\u001b[0m \u001b[0;34m=\u001b[0m \u001b[0mcsv\u001b[0m\u001b[0;34m.\u001b[0m\u001b[0mwriter\u001b[0m\u001b[0;34m(\u001b[0m\u001b[0mf\u001b[0m\u001b[0;34m)\u001b[0m\u001b[0;34m\u001b[0m\u001b[0m\n\u001b[1;32m     22\u001b[0m \u001b[0;31m#         f_csv.writerow(headers)\u001b[0m\u001b[0;34m\u001b[0m\u001b[0;34m\u001b[0m\u001b[0m\n\u001b[0;32m---> 23\u001b[0;31m         \u001b[0mf_csv\u001b[0m\u001b[0;34m.\u001b[0m\u001b[0mwriterows\u001b[0m\u001b[0;34m(\u001b[0m\u001b[0mresult\u001b[0m\u001b[0;34m,\u001b[0m \u001b[0mdelimiter\u001b[0m\u001b[0;34m=\u001b[0m\u001b[0;34m' '\u001b[0m\u001b[0;34m)\u001b[0m\u001b[0;34m\u001b[0m\u001b[0m\n\u001b[0m\u001b[1;32m     24\u001b[0m \u001b[0;34m\u001b[0m\u001b[0m\n\u001b[1;32m     25\u001b[0m \u001b[0msave_prediction_to_csv\u001b[0m\u001b[0;34m(\u001b[0m\u001b[0mEdges\u001b[0m\u001b[0;34m,\u001b[0m\u001b[0;34m'edges'\u001b[0m\u001b[0;34m)\u001b[0m\u001b[0;34m\u001b[0m\u001b[0m\n",
      "\u001b[0;31mTypeError\u001b[0m: writerows() takes no keyword arguments"
     ]
    }
   ],
   "source": [
    "import csv\n",
    "import time\n",
    "'''\n",
    "Description: get time\n",
    "Input: \n",
    "Output: time\n",
    "''' \n",
    "def nowtime():\n",
    "    return time.strftime(\"%Y%m%d-%H%M\", time.localtime())\n",
    "\n",
    "\n",
    "\"\"\"\n",
    "Description: Save prediction result to files\n",
    "Input: (1) result\n",
    "       (2) filename\n",
    "Output: \n",
    "\"\"\"\n",
    "def save_prediction_to_csv(result,filename):\n",
    "#     headers = ['id','Prediction']\n",
    "    with open(filename + str(nowtime()) + \".txt\", 'w', encoding = 'utf8') as f:\n",
    "        f_csv = csv.writer(f)\n",
    "#         f_csv.writerow(headers)\n",
    "        for row in result:\n",
    "            f_csv.writerow(result)\n",
    "\n",
    "save_prediction_to_csv(Edges,'edges')"
   ]
  },
  {
   "cell_type": "code",
   "execution_count": null,
   "metadata": {},
   "outputs": [],
   "source": []
  }
 ],
 "metadata": {
  "kernelspec": {
   "display_name": "Python 3",
   "language": "python",
   "name": "python3"
  },
  "language_info": {
   "codemirror_mode": {
    "name": "ipython",
    "version": 3
   },
   "file_extension": ".py",
   "mimetype": "text/x-python",
   "name": "python",
   "nbconvert_exporter": "python",
   "pygments_lexer": "ipython3",
   "version": "3.6.5"
  }
 },
 "nbformat": 4,
 "nbformat_minor": 2
}
