{
 "cells": [
  {
   "cell_type": "markdown",
   "metadata": {},
   "source": [
    "# Load the data"
   ]
  },
  {
   "cell_type": "code",
   "execution_count": 40,
   "metadata": {},
   "outputs": [],
   "source": [
    "import pandas as pd\n",
    "import pickle\n",
    "import math"
   ]
  },
  {
   "cell_type": "code",
   "execution_count": 5,
   "metadata": {},
   "outputs": [],
   "source": [
    "data_dir = \"../../data/\"\n",
    "def save_obj(obj, name ):\n",
    "    with open( name + '.pkl', 'wb') as f:\n",
    "        pickle.dump(obj, f, pickle.HIGHEST_PROTOCOL)\n",
    "\n",
    "def load_obj(name):\n",
    "    with open(data_dir + name + '.pkl', 'rb') as f:\n",
    "        return pickle.load(f)\n",
    "# load data\n",
    "BasicFeatures = load_obj(\"pre_features\")"
   ]
  },
  {
   "cell_type": "markdown",
   "metadata": {},
   "source": [
    "# Explantory"
   ]
  },
  {
   "cell_type": "code",
   "execution_count": 21,
   "metadata": {},
   "outputs": [
    {
     "data": {
      "text/plain": [
       "dict"
      ]
     },
     "execution_count": 21,
     "metadata": {},
     "output_type": "execute_result"
    }
   ],
   "source": [
    "# Only get 50,000 instances\n",
    "BasicFeatures_5w = {}\n",
    "cnt=0\n",
    "for k in BasicFeatures:\n",
    "    if cnt>=50000:\n",
    "        break\n",
    "    BasicFeatures_5w[k] = BasicFeatures[k]\n",
    "    cnt+=1"
   ]
  },
  {
   "cell_type": "code",
   "execution_count": null,
   "metadata": {},
   "outputs": [],
   "source": [
    "import pandas as pd\n",
    "# in-degree statistics\n",
    "df = pd.DataFrame(BasicFeatures)\n",
    "df =  df.T\n",
    "df.rename(columns={0: 'num_of_neighbours',\n",
    "                   1: 'log_num_of_neighbours',\n",
    "                  2: 'list_of_neighbours',\n",
    "                  3: 'list_of_in_neighbours',\n",
    "                  4: 'num_of_in_neighbours',\n",
    "                  5: 'list_of_out_neighbours',\n",
    "                  6: 'num_of_out_neighbours'}, inplace=True)"
   ]
  },
  {
   "cell_type": "code",
   "execution_count": 53,
   "metadata": {},
   "outputs": [
    {
     "name": "stdout",
     "output_type": "stream",
     "text": [
      "       num_of_neighbours  num_of_in_neighbours  num_of_out_neighbours\n",
      "count       50000.000000           50000.00000           50000.000000\n",
      "mean           37.864600              10.16080              27.703800\n",
      "std          3498.361192              38.68534            3474.688858\n",
      "min             1.000000               1.00000               0.000000\n",
      "25%             1.000000               1.00000               0.000000\n",
      "50%             2.000000               2.00000               0.000000\n",
      "75%             6.000000               6.00000               0.000000\n",
      "max        766634.000000            4841.00000          761793.000000\n"
     ]
    }
   ],
   "source": [
    "# df.sort_values('num_of_neighbours',ascending=False)\n",
    "# df_statistics = df[num_of_neighbours]\n",
    "df_statistics = df[['num_of_neighbours', 'num_of_in_neighbours', 'num_of_out_neighbours']].copy()\n",
    "df_statistics.sort_values('num_of_neighbours',ascending=False)\n",
    "print(df_statistics.astype(int).describe())\n",
    "# conclusion: num_of_out_neighbours is 3 times as largee as the num_of_in_neighbours for 50,000 data"
   ]
  },
  {
   "cell_type": "code",
   "execution_count": 52,
   "metadata": {},
   "outputs": [
    {
     "name": "stdout",
     "output_type": "stream",
     "text": [
      "       num_of_neighbours  num_of_in_neighbours  num_of_out_neighbours\n",
      "count       50000.000000           50000.00000           50000.000000\n",
      "mean           37.864600              10.16080              27.703800\n",
      "std          3498.361192              38.68534            3474.688858\n",
      "min             1.000000               1.00000               0.000000\n",
      "25%             1.000000               1.00000               0.000000\n",
      "50%             2.000000               2.00000               0.000000\n",
      "75%             6.000000               6.00000               0.000000\n",
      "max        766634.000000            4841.00000          761793.000000\n"
     ]
    }
   ],
   "source": []
  },
  {
   "cell_type": "code",
   "execution_count": null,
   "metadata": {},
   "outputs": [],
   "source": []
  },
  {
   "cell_type": "code",
   "execution_count": 31,
   "metadata": {},
   "outputs": [
    {
     "data": {
      "text/plain": [
       "9.854297308345357"
      ]
     },
     "execution_count": 31,
     "metadata": {},
     "output_type": "execute_result"
    }
   ],
   "source": [
    "import math\n",
    "math.log(19040)"
   ]
  },
  {
   "cell_type": "markdown",
   "metadata": {},
   "source": [
    "# Modelling"
   ]
  },
  {
   "cell_type": "markdown",
   "metadata": {},
   "source": [
    "# Please save the training set as the csv file."
   ]
  },
  {
   "cell_type": "code",
   "execution_count": null,
   "metadata": {},
   "outputs": [],
   "source": [
    "from sklearn.linear_model.logistic import LogisticRegression\n",
    "# TODO: Do we need to split the train and validation data via this one?\n",
    "from sklearn.cross_validation import train_test_split\n",
    "classifier = LogisticRegression()\n",
    "classifier.fit(X_train, y_train)\n"
   ]
  },
  {
   "cell_type": "markdown",
   "metadata": {},
   "source": [
    "# Prediction"
   ]
  },
  {
   "cell_type": "code",
   "execution_count": null,
   "metadata": {},
   "outputs": [],
   "source": []
  }
 ],
 "metadata": {
  "kernelspec": {
   "display_name": "Python 3",
   "language": "python",
   "name": "python3"
  },
  "language_info": {
   "codemirror_mode": {
    "name": "ipython",
    "version": 3
   },
   "file_extension": ".py",
   "mimetype": "text/x-python",
   "name": "python",
   "nbconvert_exporter": "python",
   "pygments_lexer": "ipython3",
   "version": "3.6.5"
  }
 },
 "nbformat": 4,
 "nbformat_minor": 2
}
