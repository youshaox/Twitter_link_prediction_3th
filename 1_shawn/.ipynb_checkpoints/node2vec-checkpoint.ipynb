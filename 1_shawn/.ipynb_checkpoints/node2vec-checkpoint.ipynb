{
 "cells": [
  {
   "cell_type": "code",
   "execution_count": 10,
   "metadata": {},
   "outputs": [],
   "source": [
    "import networkx as nx\n",
    "import matplotlib.pyplot as plt\n",
    "import pandas as pd\n",
    "import scipy.sparse as sp\n",
    "import numpy as np\n",
    "from sklearn.metrics import roc_auc_score\n",
    "from sklearn.metrics import average_precision_score\n",
    "import pickle\n",
    "import math\n",
    "\n",
    "data_dir = \"../../data/\"\n",
    "\n",
    "with open(data_dir + \"train.txt\", \"r\") as f:\n",
    "     train_data = f.readlines()\n",
    "Nodes = []\n",
    "Edges = []\n",
    "for i in range(len(train_data)):\n",
    "    #if i%100 == 0:\n",
    "        #print(i)\n",
    "    nodes_list = [int(n) for n in train_data[i].split()]\n",
    "    for node in nodes_list:\n",
    "        Nodes.append(node)\n",
    "    for node in nodes_list[1:]:\n",
    "        Edges.append((nodes_list[0],node))\n",
    "Nodes = set(Nodes)\n"
   ]
  },
  {
   "cell_type": "code",
   "execution_count": 7,
   "metadata": {},
   "outputs": [],
   "source": [
    "# 找到所有的test_data中的点\n",
    "data_dir = \"../../data/\"\n",
    "with open(data_dir + \"test-public.txt\", \"r\") as f:\n",
    "     test_data = f.readlines()\n",
    "test_data = [i.split() for i in test_data[1:]]\n",
    "\n",
    "nodes_in_test_data = set()\n",
    "for edge in test_data:\n",
    "    nodes_in_test_data.add(edge[0])\n",
    "    nodes_in_test_data.add(edge[1])"
   ]
  },
  {
   "cell_type": "code",
   "execution_count": 11,
   "metadata": {},
   "outputs": [],
   "source": [
    "data_dir = \"../../data/\"\n",
    "def save_obj(obj, name ):\n",
    "    with open( name + '.pkl', 'wb') as f:\n",
    "        pickle.dump(obj, f, pickle.HIGHEST_PROTOCOL)\n",
    "\n",
    "def load_obj(name):\n",
    "    with open(data_dir + name + '.pkl', 'rb') as f:\n",
    "        return pickle.load(f)\n",
    "# load data\n",
    "BasicFeatures = load_obj(\"pre_features\")"
   ]
  },
  {
   "cell_type": "code",
   "execution_count": 15,
   "metadata": {},
   "outputs": [],
   "source": [
    "import pandas as pd\n",
    "# in-degree statistics\n",
    "df = pd.DataFrame(BasicFeatures)\n",
    "df =  df.T\n",
    "df.rename(columns={0: 'num_of_neighbours',\n",
    "                   1: 'log_num_of_neighbours',\n",
    "                  2: 'list_of_neighbours',\n",
    "                  3: 'list_of_in_neighbours',\n",
    "                  4: 'num_of_in_neighbours',\n",
    "                  5: 'list_of_out_neighbours',\n",
    "                  6: 'num_of_out_neighbours'}, inplace=True)"
   ]
  },
  {
   "cell_type": "code",
   "execution_count": 45,
   "metadata": {},
   "outputs": [
    {
     "data": {
      "text/html": [
       "<div>\n",
       "<style scoped>\n",
       "    .dataframe tbody tr th:only-of-type {\n",
       "        vertical-align: middle;\n",
       "    }\n",
       "\n",
       "    .dataframe tbody tr th {\n",
       "        vertical-align: top;\n",
       "    }\n",
       "\n",
       "    .dataframe thead th {\n",
       "        text-align: right;\n",
       "    }\n",
       "</style>\n",
       "<table border=\"1\" class=\"dataframe\">\n",
       "  <thead>\n",
       "    <tr style=\"text-align: right;\">\n",
       "      <th></th>\n",
       "      <th>num_of_neighbours</th>\n",
       "      <th>log_num_of_neighbours</th>\n",
       "      <th>list_of_neighbours</th>\n",
       "      <th>list_of_in_neighbours</th>\n",
       "      <th>num_of_in_neighbours</th>\n",
       "      <th>list_of_out_neighbours</th>\n",
       "      <th>num_of_out_neighbours</th>\n",
       "    </tr>\n",
       "  </thead>\n",
       "  <tbody>\n",
       "    <tr>\n",
       "      <th>2</th>\n",
       "      <td>2</td>\n",
       "      <td>0.910239</td>\n",
       "      <td>[20388, 3360411]</td>\n",
       "      <td>[3360411, 20388]</td>\n",
       "      <td>2</td>\n",
       "      <td>[]</td>\n",
       "      <td>0</td>\n",
       "    </tr>\n",
       "  </tbody>\n",
       "</table>\n",
       "</div>"
      ],
      "text/plain": [
       "  num_of_neighbours log_num_of_neighbours list_of_neighbours  \\\n",
       "2                 2              0.910239   [20388, 3360411]   \n",
       "\n",
       "  list_of_in_neighbours num_of_in_neighbours list_of_out_neighbours  \\\n",
       "2      [3360411, 20388]                    2                     []   \n",
       "\n",
       "  num_of_out_neighbours  \n",
       "2                     0  "
      ]
     },
     "execution_count": 45,
     "metadata": {},
     "output_type": "execute_result"
    }
   ],
   "source": [
    "df.loc[[2]]"
   ]
  },
  {
   "cell_type": "code",
   "execution_count": 67,
   "metadata": {},
   "outputs": [],
   "source": [
    "new_df = df.loc[[2]]\n",
    "new = new_df.append(df.loc[[1]])"
   ]
  },
  {
   "cell_type": "code",
   "execution_count": 69,
   "metadata": {},
   "outputs": [
    {
     "data": {
      "text/html": [
       "<div>\n",
       "<style scoped>\n",
       "    .dataframe tbody tr th:only-of-type {\n",
       "        vertical-align: middle;\n",
       "    }\n",
       "\n",
       "    .dataframe tbody tr th {\n",
       "        vertical-align: top;\n",
       "    }\n",
       "\n",
       "    .dataframe thead th {\n",
       "        text-align: right;\n",
       "    }\n",
       "</style>\n",
       "<table border=\"1\" class=\"dataframe\">\n",
       "  <thead>\n",
       "    <tr style=\"text-align: right;\">\n",
       "      <th></th>\n",
       "      <th>num_of_neighbours</th>\n",
       "      <th>log_num_of_neighbours</th>\n",
       "      <th>list_of_neighbours</th>\n",
       "      <th>list_of_in_neighbours</th>\n",
       "      <th>num_of_in_neighbours</th>\n",
       "      <th>list_of_out_neighbours</th>\n",
       "      <th>num_of_out_neighbours</th>\n",
       "    </tr>\n",
       "  </thead>\n",
       "  <tbody>\n",
       "    <tr>\n",
       "      <th>2</th>\n",
       "      <td>2</td>\n",
       "      <td>0.910239</td>\n",
       "      <td>[20388, 3360411]</td>\n",
       "      <td>[3360411, 20388]</td>\n",
       "      <td>2</td>\n",
       "      <td>[]</td>\n",
       "      <td>0</td>\n",
       "    </tr>\n",
       "    <tr>\n",
       "      <th>1</th>\n",
       "      <td>3</td>\n",
       "      <td>0.721348</td>\n",
       "      <td>[1247754, 2382107, 4588320]</td>\n",
       "      <td>[4588320, 1247754, 2382107]</td>\n",
       "      <td>3</td>\n",
       "      <td>[]</td>\n",
       "      <td>0</td>\n",
       "    </tr>\n",
       "  </tbody>\n",
       "</table>\n",
       "</div>"
      ],
      "text/plain": [
       "  num_of_neighbours log_num_of_neighbours           list_of_neighbours  \\\n",
       "2                 2              0.910239             [20388, 3360411]   \n",
       "1                 3              0.721348  [1247754, 2382107, 4588320]   \n",
       "\n",
       "         list_of_in_neighbours num_of_in_neighbours list_of_out_neighbours  \\\n",
       "2             [3360411, 20388]                    2                     []   \n",
       "1  [4588320, 1247754, 2382107]                    3                     []   \n",
       "\n",
       "  num_of_out_neighbours  \n",
       "2                     0  \n",
       "1                     0  "
      ]
     },
     "execution_count": 69,
     "metadata": {},
     "output_type": "execute_result"
    }
   ],
   "source": [
    "new"
   ]
  },
  {
   "cell_type": "code",
   "execution_count": 72,
   "metadata": {},
   "outputs": [],
   "source": [
    "new_df = pd.DataFrame()\n",
    "# 找到所有的training data中有test data中有edge的边\n",
    "for node_in_test_data in nodes_in_test_data:\n",
    "    node_in_test_data = int(node_in_test_data)\n",
    "\n",
    "    try:\n",
    "        df_row = df.loc[[node_in_test_data]]\n",
    "#         print(df_row)\n",
    "        new_df = new_df.append(df_row)\n",
    "#         print(new_df)\n",
    "    except:\n",
    "        continue\n",
    "\n",
    "required_set = set()\n",
    "for index, row in new_df.iterrows():\n",
    "#     print(index)\n",
    "#     print(row['list_of_neighbours'])\n",
    "    required_set.add(index)\n",
    "    for node in row['list_of_neighbours']:\n",
    "        required_set.add(node)\n",
    "len(required_set)\n",
    "# 利用已经有的边生成新的训练集\n",
    "\n",
    "data_dir = \"../../data/\"\n",
    "\n",
    "with open(data_dir + \"edges.txt\", \"r\") as f:\n",
    "    read_rows = f.readlines()\n"
   ]
  },
  {
   "cell_type": "code",
   "execution_count": 86,
   "metadata": {},
   "outputs": [],
   "source": []
  },
  {
   "cell_type": "code",
   "execution_count": 87,
   "metadata": {},
   "outputs": [
    {
     "data": {
      "text/plain": [
       "1222124"
      ]
     },
     "execution_count": 87,
     "metadata": {},
     "output_type": "execute_result"
    }
   ],
   "source": []
  },
  {
   "cell_type": "code",
   "execution_count": 116,
   "metadata": {},
   "outputs": [
    {
     "ename": "AttributeError",
     "evalue": "'set' object has no attribute 'astype'",
     "output_type": "error",
     "traceback": [
      "\u001b[0;31m---------------------------------------------------------------------------\u001b[0m",
      "\u001b[0;31mAttributeError\u001b[0m                            Traceback (most recent call last)",
      "\u001b[0;32m<ipython-input-116-7724d9771db2>\u001b[0m in \u001b[0;36m<module>\u001b[0;34m()\u001b[0m\n\u001b[1;32m      1\u001b[0m \u001b[0mlen\u001b[0m\u001b[0;34m(\u001b[0m\u001b[0mnodes_in_test_data\u001b[0m\u001b[0;34m)\u001b[0m\u001b[0;34m\u001b[0m\u001b[0m\n\u001b[0;32m----> 2\u001b[0;31m \u001b[0mnodes_in_test_data\u001b[0m\u001b[0;34m.\u001b[0m\u001b[0mastype\u001b[0m\u001b[0;34m(\u001b[0m\u001b[0mint8\u001b[0m\u001b[0;34m)\u001b[0m\u001b[0;34m\u001b[0m\u001b[0m\n\u001b[0m",
      "\u001b[0;31mAttributeError\u001b[0m: 'set' object has no attribute 'astype'"
     ]
    }
   ],
   "source": [
    "len(nodes_in_test_data)\n",
    "nodes_in_test_data.astype(int8)"
   ]
  },
  {
   "cell_type": "code",
   "execution_count": null,
   "metadata": {},
   "outputs": [],
   "source": [
    "rows = [i.split() for i in read_rows[0:]]\n",
    "edges_of_all_test_nodes_related=list()\n",
    "\n",
    "for row in rows:\n",
    "    row[0] = int(row[0])\n",
    "    row[1] = int(row[1])\n",
    "    edge = (row[0], row[1])\n",
    "    if str(row[0]) in nodes_in_test_data or str(row[1]) in nodes_in_test_data:\n",
    "        edges_of_all_test_nodes_related.append(edge)"
   ]
  },
  {
   "cell_type": "code",
   "execution_count": 110,
   "metadata": {},
   "outputs": [
    {
     "data": {
      "text/plain": [
       "24004361"
      ]
     },
     "execution_count": 110,
     "metadata": {},
     "output_type": "execute_result"
    }
   ],
   "source": [
    "len(rows)"
   ]
  },
  {
   "cell_type": "code",
   "execution_count": 111,
   "metadata": {},
   "outputs": [
    {
     "data": {
      "text/plain": [
       "0"
      ]
     },
     "execution_count": 111,
     "metadata": {},
     "output_type": "execute_result"
    }
   ],
   "source": [
    "len(edges_of_all_test_nodes_related)"
   ]
  },
  {
   "cell_type": "code",
   "execution_count": null,
   "metadata": {},
   "outputs": [],
   "source": [
    "# 生成negative sample\n",
    "for "
   ]
  },
  {
   "cell_type": "code",
   "execution_count": null,
   "metadata": {},
   "outputs": [],
   "source": []
  },
  {
   "cell_type": "code",
   "execution_count": 5,
   "metadata": {},
   "outputs": [
    {
     "ename": "TypeError",
     "evalue": "writerows() takes no keyword arguments",
     "output_type": "error",
     "traceback": [
      "\u001b[0;31m---------------------------------------------------------------------------\u001b[0m",
      "\u001b[0;31mTypeError\u001b[0m                                 Traceback (most recent call last)",
      "\u001b[0;32m<ipython-input-5-e6817af4cc0e>\u001b[0m in \u001b[0;36m<module>\u001b[0;34m()\u001b[0m\n\u001b[1;32m     23\u001b[0m         \u001b[0mf_csv\u001b[0m\u001b[0;34m.\u001b[0m\u001b[0mwriterows\u001b[0m\u001b[0;34m(\u001b[0m\u001b[0mresult\u001b[0m\u001b[0;34m,\u001b[0m \u001b[0mdelimiter\u001b[0m\u001b[0;34m=\u001b[0m\u001b[0;34m' '\u001b[0m\u001b[0;34m)\u001b[0m\u001b[0;34m\u001b[0m\u001b[0m\n\u001b[1;32m     24\u001b[0m \u001b[0;34m\u001b[0m\u001b[0m\n\u001b[0;32m---> 25\u001b[0;31m \u001b[0msave_prediction_to_csv\u001b[0m\u001b[0;34m(\u001b[0m\u001b[0mEdges\u001b[0m\u001b[0;34m,\u001b[0m\u001b[0;34m'edges'\u001b[0m\u001b[0;34m)\u001b[0m\u001b[0;34m\u001b[0m\u001b[0m\n\u001b[0m",
      "\u001b[0;32m<ipython-input-5-e6817af4cc0e>\u001b[0m in \u001b[0;36msave_prediction_to_csv\u001b[0;34m(result, filename)\u001b[0m\n\u001b[1;32m     21\u001b[0m         \u001b[0mf_csv\u001b[0m \u001b[0;34m=\u001b[0m \u001b[0mcsv\u001b[0m\u001b[0;34m.\u001b[0m\u001b[0mwriter\u001b[0m\u001b[0;34m(\u001b[0m\u001b[0mf\u001b[0m\u001b[0;34m)\u001b[0m\u001b[0;34m\u001b[0m\u001b[0m\n\u001b[1;32m     22\u001b[0m \u001b[0;31m#         f_csv.writerow(headers)\u001b[0m\u001b[0;34m\u001b[0m\u001b[0;34m\u001b[0m\u001b[0m\n\u001b[0;32m---> 23\u001b[0;31m         \u001b[0mf_csv\u001b[0m\u001b[0;34m.\u001b[0m\u001b[0mwriterows\u001b[0m\u001b[0;34m(\u001b[0m\u001b[0mresult\u001b[0m\u001b[0;34m,\u001b[0m \u001b[0mdelimiter\u001b[0m\u001b[0;34m=\u001b[0m\u001b[0;34m' '\u001b[0m\u001b[0;34m)\u001b[0m\u001b[0;34m\u001b[0m\u001b[0m\n\u001b[0m\u001b[1;32m     24\u001b[0m \u001b[0;34m\u001b[0m\u001b[0m\n\u001b[1;32m     25\u001b[0m \u001b[0msave_prediction_to_csv\u001b[0m\u001b[0;34m(\u001b[0m\u001b[0mEdges\u001b[0m\u001b[0;34m,\u001b[0m\u001b[0;34m'edges'\u001b[0m\u001b[0;34m)\u001b[0m\u001b[0;34m\u001b[0m\u001b[0m\n",
      "\u001b[0;31mTypeError\u001b[0m: writerows() takes no keyword arguments"
     ]
    }
   ],
   "source": [
    "import csv\n",
    "import time\n",
    "'''\n",
    "Description: get time\n",
    "Input: \n",
    "Output: time\n",
    "''' \n",
    "def nowtime():\n",
    "    return time.strftime(\"%Y%m%d-%H%M\", time.localtime())\n",
    "\n",
    "\n",
    "\"\"\"\n",
    "Description: Save prediction result to files\n",
    "Input: (1) result\n",
    "       (2) filename\n",
    "Output: \n",
    "\"\"\"\n",
    "def save_prediction_to_csv(result,filename):\n",
    "#     headers = ['id','Prediction']\n",
    "    with open(filename + str(nowtime()) + \".txt\", 'w', encoding = 'utf8') as f:\n",
    "        f_csv = csv.writer(f)\n",
    "#         f_csv.writerow(headers)\n",
    "        for row in result:\n",
    "            f_csv.writerow(result)\n",
    "\n",
    "save_prediction_to_csv(Edges,'edges')"
   ]
  },
  {
   "cell_type": "code",
   "execution_count": null,
   "metadata": {},
   "outputs": [],
   "source": []
  }
 ],
 "metadata": {
  "kernelspec": {
   "display_name": "Python 3",
   "language": "python",
   "name": "python3"
  },
  "language_info": {
   "codemirror_mode": {
    "name": "ipython",
    "version": 3
   },
   "file_extension": ".py",
   "mimetype": "text/x-python",
   "name": "python",
   "nbconvert_exporter": "python",
   "pygments_lexer": "ipython3",
   "version": "3.6.5"
  }
 },
 "nbformat": 4,
 "nbformat_minor": 2
}
