{
 "cells": [
  {
   "cell_type": "code",
   "execution_count": 6,
   "metadata": {},
   "outputs": [],
   "source": [
    "import networkx as nx\n",
    "import matplotlib.pyplot as plt\n",
    "import pandas as pd\n",
    "import scipy.sparse as sp\n",
    "import numpy as np\n",
    "from sklearn.metrics import roc_auc_score\n",
    "from sklearn.metrics import average_precision_score\n",
    "import pickle"
   ]
  },
  {
   "cell_type": "markdown",
   "metadata": {},
   "source": [
    "# Import the data"
   ]
  },
  {
   "cell_type": "code",
   "execution_count": 7,
   "metadata": {},
   "outputs": [],
   "source": [
    "data_dir = \"../../data/\"\n",
    "with open(data_dir + \"train.txt\", \"r\") as f:\n",
    "     train_data = f.readlines()"
   ]
  },
  {
   "cell_type": "markdown",
   "metadata": {},
   "source": [
    "# Data structure"
   ]
  },
  {
   "cell_type": "code",
   "execution_count": 12,
   "metadata": {},
   "outputs": [],
   "source": [
    "# 1. node set\n",
    "# 2. edge tuple\n",
    "nodes = []\n",
    "edges = []\n",
    "for i in range(len(train_data)):\n",
    "    #if i%100 == 0:\n",
    "        #print(i)\n",
    "    nodes_list = [int(n) for n in train_data[i].split()]\n",
    "    for node in nodes_list:\n",
    "        nodes.append(node)\n",
    "    for node in nodes_list[1:]:\n",
    "        edges.append((nodes_list[0],node))\n",
    "nodes = set(nodes)\n",
    "sorted_edges = sorted(edges, key=lambda tup: tup[0])\n"
   ]
  },
  {
   "cell_type": "code",
   "execution_count": 15,
   "metadata": {},
   "outputs": [
    {
     "name": "stdout",
     "output_type": "stream",
     "text": [
      "(1097, 3253279)\n",
      "(1097, 1661049)\n",
      "(1097, 957555)\n",
      "(1097, 1981688)\n"
     ]
    }
   ],
   "source": [
    "# sorted?\n",
    "print(sorted_edges[0])\n",
    "print(sorted_edges[1])\n",
    "print(sorted_edges[2])\n",
    "print(sorted_edges[3])"
   ]
  },
  {
   "cell_type": "markdown",
   "metadata": {},
   "source": [
    "# Build graphs "
   ]
  },
  {
   "cell_type": "code",
   "execution_count": 17,
   "metadata": {},
   "outputs": [
    {
     "ename": "SyntaxError",
     "evalue": "unexpected EOF while parsing (<ipython-input-17-5a815f8e9d2e>, line 50)",
     "output_type": "error",
     "traceback": [
      "\u001b[0;36m  File \u001b[0;32m\"<ipython-input-17-5a815f8e9d2e>\"\u001b[0;36m, line \u001b[0;32m50\u001b[0m\n\u001b[0;31m    \u001b[0m\n\u001b[0m    ^\u001b[0m\n\u001b[0;31mSyntaxError\u001b[0m\u001b[0;31m:\u001b[0m unexpected EOF while parsing\n"
     ]
    }
   ],
   "source": [
    "# graph = nx.Graph()\n",
    "# graph.add_nodes_from(nodes)\n",
    "# graph.add_edges_from(edges)\n",
    "\n",
    "class Node:\n",
    "    def __init__(self, node_id, general_neighbour_ids, source_neighbour_ids, sink_neighbour_ids):\n",
    "        self.node_id = node_id\n",
    "        self.general_neighbour_ids = general_neighbour_ids\n",
    "        # neigbour as a source\n",
    "        self.source_neighbour_ids = source_neighbour_ids\n",
    "        self.sink_neighbour_ids = sink_neighbour_ids\n",
    "\n",
    "    def get_node_id():\n",
    "        return self.general_neighbour_ids\n",
    "    def get_general_neighbour_ids():\n",
    "        return self.general_neighbour_ids\n",
    "        \n",
    "    def get_source_neighbour_ids():\n",
    "        return self.source_neighbour_ids\n",
    "        \n",
    "    def get_sink_neighbour_ids():\n",
    "        return self.sink_neighbour_ids\n",
    "        \n",
    "    def get_length_of_general_neighbours():\n",
    "        return len(self.general_neighbour_ids)\n",
    "        \n",
    "    def get_length_of_source_neighbours():\n",
    "        return len(self.source_neighbour_ids)\n",
    "\n",
    "    def get_length_of_sink_neighbours():\n",
    "        return len(self.sink_neighbour_ids)\n",
    "\n",
    "    \n",
    "# 生成对象集合\n",
    "flag_id = 0\n",
    "\n",
    "for sorted_edge in sorted_edges:\n",
    "    \n",
    "    if sorted_edge[0] != flag_id:\n",
    "        # 如果是新的节点，要重新实例化对象\n",
    "        general_neighbour_ids = set()\n",
    "        source_neighbour_ids = set()\n",
    "#         sink_neighbour_ids = set()\n",
    "        \n",
    "        Node(sorted_edge[0])\n",
    "    else:\n",
    "        # 如果是同一个的话\n",
    "    \n",
    "\n",
    "        \n",
    "    "
   ]
  },
  {
   "cell_type": "code",
   "execution_count": null,
   "metadata": {},
   "outputs": [],
   "source": [
    "def get_neighbours(edge_list, node):\n",
    "    # either source or sink will be considered to be a neighbour \n",
    "    for node in \n",
    "    print()\n",
    "    "
   ]
  },
  {
   "cell_type": "code",
   "execution_count": null,
   "metadata": {},
   "outputs": [],
   "source": []
  },
  {
   "cell_type": "code",
   "execution_count": null,
   "metadata": {},
   "outputs": [],
   "source": []
  },
  {
   "cell_type": "code",
   "execution_count": null,
   "metadata": {},
   "outputs": [],
   "source": []
  },
  {
   "cell_type": "code",
   "execution_count": null,
   "metadata": {},
   "outputs": [],
   "source": []
  },
  {
   "cell_type": "code",
   "execution_count": null,
   "metadata": {},
   "outputs": [],
   "source": []
  },
  {
   "cell_type": "markdown",
   "metadata": {},
   "source": [
    "# Jaccard's coefficient"
   ]
  },
  {
   "cell_type": "code",
   "execution_count": null,
   "metadata": {},
   "outputs": [],
   "source": [
    "def get_jaccard_coefficient(graph, node_x, node_y):\n",
    "    score = 0.0\n",
    "    common_neighbors = sorted(nx.common_neighbors(graph, node_x, node_y))\n",
    "    union_neighbors = set(sorted(nx.all_neighbors(graph, node_x)) + sorted(nx.all_neighbors(graph, node_y)))\n",
    "#     node_y_neighbors = sorted(nx.all_neighbors(graph, node_y))\n",
    "#     union_list = \n",
    "    return(len(common_neighbors)/len(union_neighbors))\n",
    "\n",
    "print(get_jaccard_coefficient(graph,2184483,1300190))\n",
    "    "
   ]
  },
  {
   "cell_type": "code",
   "execution_count": null,
   "metadata": {},
   "outputs": [],
   "source": [
    "for i in \n",
    "preds = nx.jaccard_coefficient(graph, )"
   ]
  },
  {
   "cell_type": "code",
   "execution_count": 5,
   "metadata": {},
   "outputs": [
    {
     "ename": "IndentationError",
     "evalue": "expected an indented block (<ipython-input-5-21de7c32c5eb>, line 6)",
     "output_type": "error",
     "traceback": [
      "\u001b[0;36m  File \u001b[0;32m\"<ipython-input-5-21de7c32c5eb>\"\u001b[0;36m, line \u001b[0;32m6\u001b[0m\n\u001b[0;31m    print(test_data)\u001b[0m\n\u001b[0m        ^\u001b[0m\n\u001b[0;31mIndentationError\u001b[0m\u001b[0;31m:\u001b[0m expected an indented block\n"
     ]
    }
   ],
   "source": [
    "with open(data_dir + \"test-public.txt\", \"r\") as f:\n",
    "     test_data = f.readlines()\n",
    "edges = [i.split() for i in test_data[1:]]\n",
    "# test_data[0]\n",
    "count = 0\n",
    "for edge in edges:\n",
    "    jaccard_coefficient = nx.jaccard_coefficient(graph, node[1], node[2])\n",
    "    print(str(node[0]) + \",\" + str(jaccard_coefficient))\n",
    "    if count>=20:\n",
    "        break"
   ]
  },
  {
   "cell_type": "code",
   "execution_count": null,
   "metadata": {},
   "outputs": [],
   "source": []
  }
 ],
 "metadata": {
  "kernelspec": {
   "display_name": "Python 3",
   "language": "python",
   "name": "python3"
  },
  "language_info": {
   "codemirror_mode": {
    "name": "ipython",
    "version": 3
   },
   "file_extension": ".py",
   "mimetype": "text/x-python",
   "name": "python",
   "nbconvert_exporter": "python",
   "pygments_lexer": "ipython3",
   "version": "3.6.5"
  }
 },
 "nbformat": 4,
 "nbformat_minor": 2
}
