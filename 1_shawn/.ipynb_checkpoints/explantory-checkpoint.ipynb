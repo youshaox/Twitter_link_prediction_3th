{
 "cells": [
  {
   "cell_type": "code",
   "execution_count": 4,
   "metadata": {},
   "outputs": [],
   "source": [
    "import networkx as nx\n",
    "import os"
   ]
  },
  {
   "cell_type": "code",
   "execution_count": 3,
   "metadata": {},
   "outputs": [
    {
     "name": "stdout",
     "output_type": "stream",
     "text": [
      "Object `networkx` not found.\n"
     ]
    }
   ],
   "source": []
  },
  {
   "cell_type": "code",
   "execution_count": 15,
   "metadata": {},
   "outputs": [
    {
     "name": "stdout",
     "output_type": "stream",
     "text": [
      "24024361\n",
      "24004361\n"
     ]
    }
   ],
   "source": [
    "data_dir = \"../../data/\"\n",
    "\n",
    "with open(data_dir + \"train.txt\", \"r\") as f:\n",
    "    train_data = f.readlines()\n",
    "Nodes = []\n",
    "Edges = []\n",
    "for i in range(len(train_data)):\n",
    "   #if i%100 == 0:\n",
    "       #print(i)\n",
    "   nodes_list = [int(n) for n in train_data[i].split()]\n",
    "   for node in nodes_list:\n",
    "       Nodes.append(node)\n",
    "   for node in nodes_list[1:]:\n",
    "       Edges.append((nodes_list[0],node))\n",
    "print(len(Nodes))\n",
    "print(len(Edges))\n",
    "Nodes = set(Nodes)"
   ]
  },
  {
   "cell_type": "code",
   "execution_count": null,
   "metadata": {},
   "outputs": [],
   "source": []
  }
 ],
 "metadata": {
  "kernelspec": {
   "display_name": "Python 3",
   "language": "python",
   "name": "python3"
  },
  "language_info": {
   "codemirror_mode": {
    "name": "ipython",
    "version": 3
   },
   "file_extension": ".py",
   "mimetype": "text/x-python",
   "name": "python",
   "nbconvert_exporter": "python",
   "pygments_lexer": "ipython3",
   "version": "3.6.5"
  }
 },
 "nbformat": 4,
 "nbformat_minor": 2
}
