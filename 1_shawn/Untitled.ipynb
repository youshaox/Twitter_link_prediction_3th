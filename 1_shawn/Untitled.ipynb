{
 "cells": [
  {
   "cell_type": "code",
   "execution_count": 39,
   "metadata": {},
   "outputs": [
    {
     "name": "stdout",
     "output_type": "stream",
     "text": [
      "0 8\n",
      "x x\n",
      "-----\n",
      "1 3\n",
      "d d\n",
      "-----\n",
      "3 5\n",
      "d d\n",
      "-----\n",
      "5 9\n",
      "d d\n",
      "-----\n",
      "8 10\n",
      "x x\n",
      "-----\n",
      "['x', 'd', 'y', '(-2)', 's', '(-2)', 'm', 'n', '(-8)', '(-4)', '(-2)']\n",
      "xdy(-2)s(-2)mn(-8)(-4)(-2)\n"
     ]
    }
   ],
   "source": [
    "import numpy as np\n",
    "text = \"xdydsdmnxdx\"\n",
    "text_list = list(text)\n",
    "for i in range(0,len(text)):\n",
    "    for j in range(i+1,len(text)):\n",
    "        v1=text[i]\n",
    "        v2=text[j]\n",
    "        if ord(v1)==ord(v2):\n",
    "            text_list[j]=\"(\" + str(i-j) + \")\"\n",
    "            \n",
    "            print(i,j)\n",
    "            print(text[i],text[j])\n",
    "            print(\"-----\")\n",
    "            break\n",
    "#             text[i]=\"ad\"\n",
    "print(text_list)\n",
    "\n",
    "str1 = ''.join(str(e) for e in text_list)\n",
    "print(str1)"
   ]
  },
  {
   "cell_type": "code",
   "execution_count": 8,
   "metadata": {},
   "outputs": [
    {
     "name": "stdout",
     "output_type": "stream",
     "text": [
      "[]\n",
      "<class 'numpy.ndarray'>\n"
     ]
    }
   ],
   "source": [
    "import numpy as np\n",
    "result = np.asarray([])\n",
    "print(result)\n",
    "print(type(result))"
   ]
  },
  {
   "cell_type": "code",
   "execution_count": null,
   "metadata": {},
   "outputs": [],
   "source": []
  }
 ],
 "metadata": {
  "kernelspec": {
   "display_name": "Python 3",
   "language": "python",
   "name": "python3"
  },
  "language_info": {
   "codemirror_mode": {
    "name": "ipython",
    "version": 3
   },
   "file_extension": ".py",
   "mimetype": "text/x-python",
   "name": "python",
   "nbconvert_exporter": "python",
   "pygments_lexer": "ipython3",
   "version": "3.6.3"
  }
 },
 "nbformat": 4,
 "nbformat_minor": 2
}
