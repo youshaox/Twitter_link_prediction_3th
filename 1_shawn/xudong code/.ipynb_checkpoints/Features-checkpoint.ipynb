{
 "cells": [
  {
   "cell_type": "code",
   "execution_count": 19,
   "metadata": {
    "colab": {},
    "colab_type": "code",
    "id": "NTn3gxiMNIpB"
   },
   "outputs": [],
   "source": [
    "import networkx as nx\n",
    "import matplotlib.pyplot as plt\n",
    "import pandas as pd\n",
    "import scipy.sparse as sp\n",
    "import numpy as np\n",
    "from sklearn.metrics import roc_auc_score\n",
    "from sklearn.metrics import average_precision_score\n",
    "import pickle\n",
    "import math\n",
    "from tqdm import tqdm_notebook as tqdm\n"
   ]
  },
  {
   "cell_type": "markdown",
   "metadata": {
    "colab_type": "text",
    "id": "SceNP76zNIpF"
   },
   "source": [
    "## Load data"
   ]
  },
  {
   "cell_type": "code",
   "execution_count": 4,
   "metadata": {},
   "outputs": [],
   "source": [
    "def save_obj(obj, name ):\n",
    "    with open( name + '.pkl', 'wb') as f:\n",
    "        pickle.dump(obj, f, pickle.HIGHEST_PROTOCOL)\n",
    "\n",
    "def load_obj(name ):\n",
    "    with open( name + '.pkl', 'rb') as f:\n",
    "        return pickle.load(f)"
   ]
  },
  {
   "cell_type": "code",
   "execution_count": 5,
   "metadata": {},
   "outputs": [],
   "source": [
    "Edges = load_obj(\"New_Edges\")\n",
    "Nodes = load_obj(\"New_Nodes\")\n",
    "pre_features = load_obj(\"pre_features\")"
   ]
  },
  {
   "cell_type": "code",
   "execution_count": 6,
   "metadata": {
    "colab": {},
    "colab_type": "code",
    "id": "xB7VD_HENIpn",
    "outputId": "1c978e02-5d98-484a-bd51-8d695bd2c457",
    "scrolled": true
   },
   "outputs": [
    {
     "data": {
      "text/plain": [
       "[3,\n",
       " 0.7213475204444817,\n",
       " [1247754, 2382107, 4588320],\n",
       " [4588320, 1247754, 2382107],\n",
       " 3,\n",
       " [],\n",
       " 0]"
      ]
     },
     "execution_count": 6,
     "metadata": {},
     "output_type": "execute_result"
    }
   ],
   "source": [
    "pre_features[1]"
   ]
  },
  {
   "cell_type": "markdown",
   "metadata": {
    "colab_type": "text",
    "id": "Sbw6A8ozNIpv"
   },
   "source": [
    "# feature engineering"
   ]
  },
  {
   "cell_type": "code",
   "execution_count": 30,
   "metadata": {
    "colab": {},
    "colab_type": "code",
    "id": "kDRLCc1ANIpy"
   },
   "outputs": [],
   "source": [
    "#Adamic-Adar similarity\n",
    "def AA(Node1, Node2):\n",
    "    sim = 0.0\n",
    "    n1 = pre_features[Node1]\n",
    "    n2 = pre_features[Node2]\n",
    "    common_neighors = list(set(n1[2]).intersection(n2[2]))\n",
    "    #print(len(common_neighors))\n",
    "    for node in common_neighors:\n",
    "        sim += pre_features[node][1]\n",
    "    return sim\n",
    "\n",
    "#Jaccard\n",
    "def Jaccard(Node1, Node2):\n",
    "    n1 = pre_features[Node1]\n",
    "    n2 = pre_features[Node2]\n",
    "    common_neighors = list(set(n1[2]).intersection(n2[2]))\n",
    "    lm = len(common_neighors)\n",
    "    if lm == 0:\n",
    "        return 0\n",
    "    else:\n",
    "        return (0.0+lm)/(n1[0] + n2[0] -lm)\n",
    "\n",
    "#Cosine\n",
    "def Cosine(Node1, Node2):\n",
    "    n1 = pre_features[Node1]\n",
    "    n2 = pre_features[Node2]\n",
    "    common_neighors = list(set(n1[2]).intersection(n2[2]))\n",
    "    lm = len(common_neighors)\n",
    "    if lm == 0:\n",
    "        return 0\n",
    "    else:\n",
    "        return (0.0+lm)/((n1[0])*(n2[0]))    \n",
    "    \n",
    "#Salton Similarity\n",
    "def salton_similarity(node1, node2):\n",
    "    n1 = pre_features[node1]\n",
    "    n2 = pre_features[node2]\n",
    "    common_neighors = list(set(n1[2]).intersection(n2[2]))\n",
    "    inter = len(common_neighors)\n",
    "    degree_out_flow = n1[6]\n",
    "    degree_in_flow = n2[4]\n",
    "    \n",
    "    if inter == 0:\n",
    "        return 0\n",
    "    else:\n",
    "        sqrt_of_degree = math.sqrt(degree_out_flow * degree_in_flow)\n",
    "        salton = inter / sqrt_of_degree\n",
    "        probability = 1 /(1 - math.log(salton)*0.2)\n",
    "        return probability"
   ]
  },
  {
   "cell_type": "code",
   "execution_count": 23,
   "metadata": {
    "colab": {},
    "colab_type": "code",
    "id": "qYplL9grNIp2"
   },
   "outputs": [],
   "source": [
    "import copy\n",
    "#Adding feature to data\n",
    "def add_feature(d, feature):\n",
    "    data = copy.deepcopy(d)\n",
    "    for i in tqdm(range(len(data))):\n",
    "        source, slink = data[i][0]\n",
    "        for ff in feature:\n",
    "            data[i].append(ff(source, slink))\n",
    "    return data"
   ]
  },
  {
   "cell_type": "markdown",
   "metadata": {
    "colab_type": "text",
    "id": "S-sV4nWJNIqD"
   },
   "source": [
    "# Make prediction"
   ]
  },
  {
   "cell_type": "code",
   "execution_count": 24,
   "metadata": {
    "colab": {},
    "colab_type": "code",
    "id": "RbP-DfvzNIqD"
   },
   "outputs": [],
   "source": [
    "import math\n",
    "def sigmoid(x):\n",
    "    return (1 / (1 + math.exp(-x)))\n",
    "def sigmoid_n(x):\n",
    "    return ((1 / (1 + math.exp(-x))-0.5)*2)"
   ]
  },
  {
   "cell_type": "code",
   "execution_count": 25,
   "metadata": {
    "colab": {},
    "colab_type": "code",
    "id": "QsEakh7XNIqG"
   },
   "outputs": [],
   "source": [
    "with open(\"test-public.txt\", \"r\") as f:\n",
    "    test_data = f.readlines()\n",
    "    test_data = [i.split() for i in test_data[1:]]"
   ]
  },
  {
   "cell_type": "code",
   "execution_count": 26,
   "metadata": {
    "colab": {},
    "colab_type": "code",
    "id": "2dU0NnQpNIqI"
   },
   "outputs": [],
   "source": [
    "def predict(method):\n",
    "    result = []\n",
    "    for l in tqdm(range(len(test_data))):\n",
    "        line = test_data[l]\n",
    "        result.append((line[0], method(int(line[1]), int(line[2]))))\n",
    "    return result"
   ]
  },
  {
   "cell_type": "code",
   "execution_count": 27,
   "metadata": {},
   "outputs": [
    {
     "data": {
      "application/vnd.jupyter.widget-view+json": {
       "model_id": "c8bc64e7e3f443c4bfc6e5ab77cd656d",
       "version_major": 2,
       "version_minor": 0
      },
      "text/plain": [
       "HBox(children=(IntProgress(value=0, max=2000), HTML(value='')))"
      ]
     },
     "metadata": {},
     "output_type": "display_data"
    },
    {
     "name": "stdout",
     "output_type": "stream",
     "text": [
      "\n"
     ]
    }
   ],
   "source": [
    "P_salton_similarity = predict(salton_similarity)"
   ]
  },
  {
   "cell_type": "code",
   "execution_count": 31,
   "metadata": {
    "colab": {},
    "colab_type": "code",
    "id": "0JOJuGDyNIqL",
    "outputId": "47eed707-5c71-4369-cd6d-62e3ab370667"
   },
   "outputs": [
    {
     "data": {
      "text/plain": [
       "['1001', '1094048', '594102']"
      ]
     },
     "execution_count": 31,
     "metadata": {},
     "output_type": "execute_result"
    }
   ],
   "source": [
    "test_data[1000]"
   ]
  },
  {
   "cell_type": "code",
   "execution_count": 32,
   "metadata": {
    "colab": {},
    "colab_type": "code",
    "id": "-MQUavvoNIqO"
   },
   "outputs": [],
   "source": [
    "# Combination of 3 method\n",
    "mixture_result = []\n",
    "for line in test_data:\n",
    "    source = int(line[1])\n",
    "    slink = int(line[2])\n",
    "    try:\n",
    "        aa = AA(source, slink)\n",
    "        ja = Jaccard(source, slink)\n",
    "        co = Cosine(source, slink)\n",
    "        salton = salton_similarity(source, slink)\n",
    "    except:\n",
    "        aa = 0\n",
    "        ja = 0\n",
    "        salton = 0\n",
    "        co = 0\n",
    "    mixture_result.append([aa, ja, co, salton])"
   ]
  },
  {
   "cell_type": "code",
   "execution_count": 33,
   "metadata": {
    "colab": {},
    "colab_type": "code",
    "id": "sxmQoR-eNIqU"
   },
   "outputs": [],
   "source": [
    "from scipy.stats import rankdata\n",
    "aa = np.array(rankdata([i[0] for i in mixture_result]))\n",
    "ja = np.array(rankdata([i[1] for i in mixture_result]))\n",
    "co = np.array(rankdata([i[2] for i in mixture_result]))\n",
    "salton = np.array(rankdata([i[3] for i in mixture_result]))"
   ]
  },
  {
   "cell_type": "code",
   "execution_count": 34,
   "metadata": {
    "colab": {},
    "colab_type": "code",
    "id": "50VufQ_rNIqW"
   },
   "outputs": [],
   "source": [
    "# Score of combination model\n",
    "com_prediction = []\n",
    "order = 1\n",
    "for score in list((aa + ja + co + salton)/np.max((aa + ja + salton + co))):\n",
    "    com_prediction.append((order, score))\n",
    "    order += 1"
   ]
  },
  {
   "cell_type": "code",
   "execution_count": 36,
   "metadata": {
    "colab": {},
    "colab_type": "code",
    "id": "aFna0QCCNIqa",
    "outputId": "ab9410d9-dc01-45ba-c823-dbdd315dc029"
   },
   "outputs": [
    {
     "data": {
      "text/plain": [
       "(1, 0.20364935562077324)"
      ]
     },
     "execution_count": 36,
     "metadata": {},
     "output_type": "execute_result"
    }
   ],
   "source": [
    "com_prediction[0]"
   ]
  },
  {
   "cell_type": "markdown",
   "metadata": {
    "colab_type": "text",
    "id": "Oe3h7mEyNIqe"
   },
   "source": [
    "## Save to file"
   ]
  },
  {
   "cell_type": "code",
   "execution_count": 28,
   "metadata": {
    "colab": {},
    "colab_type": "code",
    "id": "GwkMyLQoNIqf"
   },
   "outputs": [],
   "source": [
    "import csv\n",
    "import time\n",
    "'''\n",
    "Description: get time\n",
    "Input: \n",
    "Output: time\n",
    "''' \n",
    "def nowtime():\n",
    "    return time.strftime(\"%Y%m%d-%H%M\", time.localtime())\n",
    "\n",
    "\n",
    "\"\"\"\n",
    "Description: Save prediction result to files\n",
    "Input: (1) result\n",
    "       (2) filename\n",
    "Output: \n",
    "\"\"\"\n",
    "def save_prediction_to_csv(result,filename):\n",
    "    headers = ['id','Prediction']\n",
    "\n",
    "    with open(filename + str(nowtime()) + \".csv\", 'w', encoding = 'utf8') as f:\n",
    "        f_csv = csv.writer(f)\n",
    "        f_csv.writerow(headers)\n",
    "        f_csv.writerows(result)"
   ]
  },
  {
   "cell_type": "code",
   "execution_count": 29,
   "metadata": {
    "colab": {},
    "colab_type": "code",
    "id": "13jLOAJnNIqh"
   },
   "outputs": [],
   "source": [
    "save_prediction_to_csv(P_salton_similarity, \"kuldeep\")"
   ]
  },
  {
   "cell_type": "code",
   "execution_count": 37,
   "metadata": {},
   "outputs": [],
   "source": [
    "save_prediction_to_csv(com_prediction, \"xudong\")"
   ]
  },
  {
   "cell_type": "code",
   "execution_count": null,
   "metadata": {},
   "outputs": [],
   "source": []
  }
 ],
 "metadata": {
  "colab": {
   "name": "features.ipynb",
   "provenance": [],
   "version": "0.3.2"
  },
  "kernelspec": {
   "display_name": "Python [default]",
   "language": "python",
   "name": "python3"
  },
  "language_info": {
   "codemirror_mode": {
    "name": "ipython",
    "version": 3
   },
   "file_extension": ".py",
   "mimetype": "text/x-python",
   "name": "python",
   "nbconvert_exporter": "python",
   "pygments_lexer": "ipython3",
   "version": "3.5.5"
  }
 },
 "nbformat": 4,
 "nbformat_minor": 1
}
