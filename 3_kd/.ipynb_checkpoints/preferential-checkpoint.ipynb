{
 "cells": [
  {
   "cell_type": "code",
   "execution_count": 1,
   "metadata": {},
   "outputs": [],
   "source": [
    "import networkx as nx\n",
    "import matplotlib.pyplot as plt\n",
    "import pandas as pd\n",
    "import scipy.sparse as sp\n",
    "import numpy as np\n",
    "from sklearn.metrics import roc_auc_score\n",
    "from sklearn.metrics import average_precision_score\n",
    "import pickle\n",
    "import math\n"
   ]
  },
  {
   "cell_type": "code",
   "execution_count": 41,
   "metadata": {},
   "outputs": [],
   "source": [
    "data_dir = \"../../data/\"\n",
    "train_data = data_dir + \"train.txt\""
   ]
  },
  {
   "cell_type": "code",
   "execution_count": null,
   "metadata": {},
   "outputs": [],
   "source": []
  },
  {
   "cell_type": "code",
   "execution_count": null,
   "metadata": {},
   "outputs": [],
   "source": [
    "def node2index():\n",
    "    node_index = dict()\n",
    "    with open(train_data) as f:\n",
    "        for line in f:\n",
    "            line = [x.strip('\\n') for x in line.split('\\t')]\n",
    "            node_index[line[0]] = node_index.get(line[0],[])+line[1:]\n",
    "            for node in line:\n",
    "                node_index[node] = node_index.get(node,[]) + [line[0]]\n",
    "    return node_index\n",
    "node_index = node2index()"
   ]
  },
  {
   "cell_type": "code",
   "execution_count": 12,
   "metadata": {},
   "outputs": [
    {
     "name": "stdout",
     "output_type": "stream",
     "text": [
      "{2122753, 3642884, 2651652, 1432073, 5643, 3277323, 1799182, 3376144, 1702417, 2577937, 2891796, 4181529, 1146906, 850459, 2323997, 4394015, 822823, 1337901, 4165681, 3729970, 1990193, 759864, 2789436, 3539009, 1500229, 3293255, 4634184, 349769, 878151, 855629, 1392717, 4217935, 1084494, 3637329, 377939, 771156, 4219994, 2861149, 2697314, 3061859, 932451, 3241571, 1494526, 4330086, 2916456, 2057832, 708203, 2549365, 3063925, 3889783, 3909238, 87669, 1151104, 2027656, 2471048, 4109967, 2940560, 1812114, 4066452, 2272405, 3190422, 3191446, 233623, 717981, 2246303, 2804896, 4751012, 4293286, 2468519, 3061931, 4558512, 4647091, 1233075, 1588917, 960181, 4581556, 2314931, 1729215, 2516672, 1909958, 2037959, 1764552, 504010, 3938509, 163021, 665293, 2938577, 3166930, 4610775, 4223704, 241370, 2719963, 2444511, 4282079, 2837216, 3272419, 3586277, 1982182, 1402599, 2397416, 2141417, 2828522, 848620, 3552495, 3412207, 3484401, 1229551, 1042163, 4254453, 3565814, 1802489, 4187899, 2023163, 3652352, 946951, 871688, 1532172, 1663756, 3174668, 2796817, 4180241, 4023057, 3353876, 960790, 4111131, 1840412, 4238620, 2263331, 4834600, 2133291, 3823404, 3670317, 979757, 928558, 2921774, 3314478, 1361200, 1916723, 1060141, 2953525, 3857721, 1757498, 4094780, 1272125, 2884416, 4739396, 212805, 2644807, 2135370, 1155919, 4331857, 3319125, 439638, 2339159, 1475929, 3086178, 2795881, 2536299, 2624878, 2984819, 378745, 4284283, 1780606, 1769343, 2901888, 2256769, 2361218, 3550092, 3216781, 166797, 4081554, 1546131, 1227156, 1105301, 242071, 3408792, 2371483, 1314209, 2159522, 2757027, 527270, 4394409, 3376555, 1438125, 737710, 2367409, 601014, 3584952, 2445753, 4108731, 1233851, 3105725, 614334, 2553285, 3034565, 1878471, 4831688, 428997, 3252172, 2251224, 2518490, 3810788, 101349, 3401703, 977900, 4529652, 425464, 3637241, 4052990}\n"
     ]
    }
   ],
   "source": [
    "print(node_index(Nodes[0]))"
   ]
  },
  {
   "cell_type": "code",
   "execution_count": 23,
   "metadata": {},
   "outputs": [],
   "source": [
    "def preferential_attachment(node1, node2):\n",
    "    neighbournode1 = node_index(node1)\n",
    "    neighbournode2 = node_index(node2)\n",
    "    pred = len(neighbournode1) * len(neighbournode2)\n",
    "    if pred == 0:\n",
    "        return 0\n",
    "    else:\n",
    "        probability = 1 /(1 + 1 / pred)\n",
    "        return probability\n",
    "    "
   ]
  },
  {
   "cell_type": "code",
   "execution_count": 20,
   "metadata": {},
   "outputs": [
    {
     "name": "stdout",
     "output_type": "stream",
     "text": [
      "0.9998833138856476\n"
     ]
    }
   ],
   "source": [
    "print(preferential_attachment(Nodes[0], Nodes[1]))"
   ]
  },
  {
   "cell_type": "code",
   "execution_count": 31,
   "metadata": {},
   "outputs": [],
   "source": [
    "with open(data_dir + \"test-public.txt\") as f:\n",
    "    test_data = f.readlines\n"
   ]
  },
  {
   "cell_type": "code",
   "execution_count": 32,
   "metadata": {},
   "outputs": [],
   "source": [
    "\n",
    "def predict(method):\n",
    "    result = []\n",
    "    for line in test_file:\n",
    "        result.append((line[0], method(line[1],line[2])))\n",
    "    return result"
   ]
  },
  {
   "cell_type": "code",
   "execution_count": 33,
   "metadata": {},
   "outputs": [
    {
     "ename": "KeyboardInterrupt",
     "evalue": "",
     "output_type": "error",
     "traceback": [
      "\u001b[0;31m---------------------------------------------------------------------------\u001b[0m",
      "\u001b[0;31mKeyboardInterrupt\u001b[0m                         Traceback (most recent call last)",
      "\u001b[0;32m<ipython-input-33-488da60cd48c>\u001b[0m in \u001b[0;36m<module>\u001b[0;34m()\u001b[0m\n\u001b[0;32m----> 1\u001b[0;31m \u001b[0mprediction\u001b[0m \u001b[0;34m=\u001b[0m \u001b[0mpredict\u001b[0m\u001b[0;34m(\u001b[0m\u001b[0mpreferential_attachment\u001b[0m\u001b[0;34m)\u001b[0m\u001b[0;34m\u001b[0m\u001b[0m\n\u001b[0m",
      "\u001b[0;32m<ipython-input-32-5f44707d1631>\u001b[0m in \u001b[0;36mpredict\u001b[0;34m(method)\u001b[0m\n\u001b[1;32m      3\u001b[0m     \u001b[0mresult\u001b[0m \u001b[0;34m=\u001b[0m \u001b[0;34m[\u001b[0m\u001b[0;34m]\u001b[0m\u001b[0;34m\u001b[0m\u001b[0m\n\u001b[1;32m      4\u001b[0m     \u001b[0;32mfor\u001b[0m \u001b[0mline\u001b[0m \u001b[0;32min\u001b[0m \u001b[0mtest_file\u001b[0m\u001b[0;34m:\u001b[0m\u001b[0;34m\u001b[0m\u001b[0m\n\u001b[0;32m----> 5\u001b[0;31m         \u001b[0mresult\u001b[0m\u001b[0;34m.\u001b[0m\u001b[0mappend\u001b[0m\u001b[0;34m(\u001b[0m\u001b[0;34m(\u001b[0m\u001b[0mline\u001b[0m\u001b[0;34m[\u001b[0m\u001b[0;36m0\u001b[0m\u001b[0;34m]\u001b[0m\u001b[0;34m,\u001b[0m \u001b[0mmethod\u001b[0m\u001b[0;34m(\u001b[0m\u001b[0mline\u001b[0m\u001b[0;34m[\u001b[0m\u001b[0;36m1\u001b[0m\u001b[0;34m]\u001b[0m\u001b[0;34m,\u001b[0m\u001b[0mline\u001b[0m\u001b[0;34m[\u001b[0m\u001b[0;36m2\u001b[0m\u001b[0;34m]\u001b[0m\u001b[0;34m)\u001b[0m\u001b[0;34m)\u001b[0m\u001b[0;34m)\u001b[0m\u001b[0;34m\u001b[0m\u001b[0m\n\u001b[0m\u001b[1;32m      6\u001b[0m     \u001b[0;32mreturn\u001b[0m \u001b[0mresult\u001b[0m\u001b[0;34m\u001b[0m\u001b[0m\n",
      "\u001b[0;32m<ipython-input-23-a6f945239f9c>\u001b[0m in \u001b[0;36mpreferential_attachment\u001b[0;34m(node1, node2)\u001b[0m\n\u001b[1;32m      1\u001b[0m \u001b[0;32mdef\u001b[0m \u001b[0mpreferential_attachment\u001b[0m\u001b[0;34m(\u001b[0m\u001b[0mnode1\u001b[0m\u001b[0;34m,\u001b[0m \u001b[0mnode2\u001b[0m\u001b[0;34m)\u001b[0m\u001b[0;34m:\u001b[0m\u001b[0;34m\u001b[0m\u001b[0m\n\u001b[0;32m----> 2\u001b[0;31m     \u001b[0mneighbournode1\u001b[0m \u001b[0;34m=\u001b[0m \u001b[0mfind_neighbor\u001b[0m\u001b[0;34m(\u001b[0m\u001b[0mnode1\u001b[0m\u001b[0;34m)\u001b[0m\u001b[0;34m\u001b[0m\u001b[0m\n\u001b[0m\u001b[1;32m      3\u001b[0m     \u001b[0mneighbournode2\u001b[0m \u001b[0;34m=\u001b[0m \u001b[0mfind_neighbor\u001b[0m\u001b[0;34m(\u001b[0m\u001b[0mnode2\u001b[0m\u001b[0;34m)\u001b[0m\u001b[0;34m\u001b[0m\u001b[0m\n\u001b[1;32m      4\u001b[0m     \u001b[0mpred\u001b[0m \u001b[0;34m=\u001b[0m \u001b[0mlen\u001b[0m\u001b[0;34m(\u001b[0m\u001b[0mneighbournode1\u001b[0m\u001b[0;34m)\u001b[0m \u001b[0;34m*\u001b[0m \u001b[0mlen\u001b[0m\u001b[0;34m(\u001b[0m\u001b[0mneighbournode2\u001b[0m\u001b[0;34m)\u001b[0m\u001b[0;34m\u001b[0m\u001b[0m\n\u001b[1;32m      5\u001b[0m     \u001b[0;32mif\u001b[0m \u001b[0mpred\u001b[0m \u001b[0;34m==\u001b[0m \u001b[0;36m0\u001b[0m\u001b[0;34m:\u001b[0m\u001b[0;34m\u001b[0m\u001b[0m\n",
      "\u001b[0;32m<ipython-input-11-273c8b72852f>\u001b[0m in \u001b[0;36mfind_neighbor\u001b[0;34m(id)\u001b[0m\n\u001b[1;32m      2\u001b[0m     \u001b[0mneighbor_list\u001b[0m \u001b[0;34m=\u001b[0m \u001b[0;34m[\u001b[0m\u001b[0;34m]\u001b[0m\u001b[0;34m\u001b[0m\u001b[0m\n\u001b[1;32m      3\u001b[0m     \u001b[0;32mfor\u001b[0m \u001b[0mi\u001b[0m \u001b[0;32min\u001b[0m \u001b[0mEdges\u001b[0m\u001b[0;34m:\u001b[0m\u001b[0;34m\u001b[0m\u001b[0m\n\u001b[0;32m----> 4\u001b[0;31m         \u001b[0;32mif\u001b[0m \u001b[0mi\u001b[0m\u001b[0;34m[\u001b[0m\u001b[0;36m0\u001b[0m\u001b[0;34m]\u001b[0m \u001b[0;34m==\u001b[0m \u001b[0mid\u001b[0m\u001b[0;34m:\u001b[0m\u001b[0;34m\u001b[0m\u001b[0m\n\u001b[0m\u001b[1;32m      5\u001b[0m             \u001b[0mneighbor_list\u001b[0m \u001b[0;34m+=\u001b[0m \u001b[0mi\u001b[0m\u001b[0;34m[\u001b[0m\u001b[0;36m1\u001b[0m\u001b[0;34m:\u001b[0m\u001b[0;34m]\u001b[0m\u001b[0;34m\u001b[0m\u001b[0m\n\u001b[1;32m      6\u001b[0m             \u001b[0;32mcontinue\u001b[0m\u001b[0;34m\u001b[0m\u001b[0m\n",
      "\u001b[0;31mKeyboardInterrupt\u001b[0m: "
     ]
    }
   ],
   "source": [
    "prediction = predict(preferential_attachment)"
   ]
  },
  {
   "cell_type": "code",
   "execution_count": null,
   "metadata": {},
   "outputs": [],
   "source": [
    "print(prediction)"
   ]
  },
  {
   "cell_type": "code",
   "execution_count": null,
   "metadata": {},
   "outputs": [],
   "source": [
    "import csv\n",
    "import time\n",
    "'''\n",
    "Description: get time\n",
    "Input: \n",
    "Output: time\n",
    "''' \n",
    "def nowtime():\n",
    "    return time.strftime(\"%Y%m%d-%H%M\", time.localtime())\n",
    "\n",
    "\n",
    "\"\"\"\n",
    "Description: Save prediction result to files\n",
    "Input: (1) result\n",
    "       (2) filename\n",
    "Output: \n",
    "\"\"\"\n",
    "def save_prediction_to_csv(result,filename):\n",
    "    headers = ['id','Prediction']\n",
    "\n",
    "    with open(filename + str(nowtime()) + \".csv\", 'w', encoding = 'utf8') as f:\n",
    "        f_csv = csv.writer(f)\n",
    "        f_csv.writerow(headers)\n",
    "        f_csv.writerows(result)"
   ]
  }
 ],
 "metadata": {
  "kernelspec": {
   "display_name": "Python 3",
   "language": "python",
   "name": "python3"
  },
  "language_info": {
   "codemirror_mode": {
    "name": "ipython",
    "version": 3
   },
   "file_extension": ".py",
   "mimetype": "text/x-python",
   "name": "python",
   "nbconvert_exporter": "python",
   "pygments_lexer": "ipython3",
   "version": "3.6.5"
  }
 },
 "nbformat": 4,
 "nbformat_minor": 2
}
